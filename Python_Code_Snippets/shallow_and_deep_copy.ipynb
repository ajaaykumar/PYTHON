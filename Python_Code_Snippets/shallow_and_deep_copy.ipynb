{
 "cells": [
  {
   "cell_type": "markdown",
   "metadata": {},
   "source": [
    "**Shallow Copy**\n",
    "\n",
    "- A shallow copy creates a new object that stores the reference of the original elements.\n",
    "\n",
    "**Deep Copy**\n",
    "\n",
    "- A deep copy creates a new object and recursively adds the copies of nested objects present in the original elements."
   ]
  },
  {
   "cell_type": "code",
   "execution_count": null,
   "metadata": {},
   "outputs": [],
   "source": [
    "import copy\n",
    "copy.copy(x)\n",
    "copy.deepcopy(x)"
   ]
  },
  {
   "cell_type": "code",
   "execution_count": 1,
   "metadata": {},
   "outputs": [
    {
     "name": "stdout",
     "output_type": "stream",
     "text": [
      "sampleLst: ['ABC', 2, 3, 4, 5, 6, [1, 2, 3]]\n",
      "anotherLst: [1, 2, 3, 4, 5, 6, [1, 2, 3]]\n",
      "deepCopyLst: [1, 2, 3, 4, 5, 6, [1, 2, 3]]\n"
     ]
    }
   ],
   "source": [
    "import copy\n",
    "\n",
    "sampleLst = [1,2,3,4,5,6,[1,2,3]]\n",
    "anotherLst = copy.copy(sampleLst)\n",
    "deepCopyLst = copy.deepcopy(sampleLst)\n",
    "\n",
    "sampleLst[0] = 'ABC'\n",
    "\n",
    "print(f'sampleLst: {sampleLst}')\n",
    "print(f'anotherLst: {anotherLst}')\n",
    "print(f'deepCopyLst: {deepCopyLst}')\n"
   ]
  },
  {
   "cell_type": "code",
   "execution_count": 2,
   "metadata": {},
   "outputs": [
    {
     "name": "stdout",
     "output_type": "stream",
     "text": [
      "sampleLst: [[5, 'ABC', 7], 1, 2, 3, 4, 5, 6]\n",
      "anotherLst: [[5, 'ABC', 7], 1, 2, 3, 4, 5, 6]\n",
      "deepCopyLst: [[5, 6, 7], 1, 2, 3, 4, 5, 6]\n"
     ]
    }
   ],
   "source": [
    "# Nester list example\n",
    "import copy\n",
    "\n",
    "sampleLst = [[5,6,7],1,2,3,4,5,6]\n",
    "anotherLst = copy.copy(sampleLst)\n",
    "deepCopyLst = copy.deepcopy(sampleLst)\n",
    "\n",
    "anotherLst[0][1] = 'ABC'\n",
    "\n",
    "print(f'sampleLst: {sampleLst}')\n",
    "print(f'anotherLst: {anotherLst}')\n",
    "print(f'deepCopyLst: {deepCopyLst}')"
   ]
  },
  {
   "cell_type": "code",
   "execution_count": null,
   "metadata": {},
   "outputs": [],
   "source": []
  }
 ],
 "metadata": {
  "kernelspec": {
   "display_name": "Python 3",
   "language": "python",
   "name": "python3"
  },
  "language_info": {
   "codemirror_mode": {
    "name": "ipython",
    "version": 3
   },
   "file_extension": ".py",
   "mimetype": "text/x-python",
   "name": "python",
   "nbconvert_exporter": "python",
   "pygments_lexer": "ipython3",
   "version": "3.9.0"
  }
 },
 "nbformat": 4,
 "nbformat_minor": 2
}
