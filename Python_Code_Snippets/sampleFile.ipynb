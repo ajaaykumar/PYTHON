{
 "cells": [
  {
   "cell_type": "markdown",
   "metadata": {},
   "source": []
  },
  {
   "cell_type": "code",
   "execution_count": 1,
   "metadata": {},
   "outputs": [],
   "source": [
    "# In python functions are objects\n",
    "# 1. assign as a variable\n",
    "# 2. pass as an argument to another function\n",
    "# 3. return a function"
   ]
  },
  {
   "cell_type": "code",
   "execution_count": 8,
   "metadata": {},
   "outputs": [
    {
     "name": "stdout",
     "output_type": "stream",
     "text": [
      "Hello Ajay!\n"
     ]
    }
   ],
   "source": [
    "def greeting(name):\n",
    "    print(f\"Hello {name}!\")\n",
    "\n",
    "func = greeting\n",
    "# func('Ajay')"
   ]
  },
  {
   "cell_type": "code",
   "execution_count": 9,
   "metadata": {},
   "outputs": [
    {
     "name": "stdout",
     "output_type": "stream",
     "text": [
      "Hello Ajay!\n"
     ]
    }
   ],
   "source": [
    "def func(fun,value):\n",
    "    return fun(value)\n",
    "\n",
    "func(greeting,'Ajay')"
   ]
  },
  {
   "cell_type": "code",
   "execution_count": 11,
   "metadata": {},
   "outputs": [
    {
     "name": "stdout",
     "output_type": "stream",
     "text": [
      "inner function\n"
     ]
    }
   ],
   "source": [
    "def outerfunc():\n",
    "    def innerfunc():\n",
    "        return \"inner function\"\n",
    "    return innerfunc\n",
    "\n",
    "func = outerfunc()\n",
    "print(func())"
   ]
  },
  {
   "cell_type": "code",
   "execution_count": 20,
   "metadata": {},
   "outputs": [
    {
     "name": "stdout",
     "output_type": "stream",
     "text": [
      "4000\n",
      "9000\n"
     ]
    }
   ],
   "source": [
    "class House:\n",
    "    def __init__(self, price):\n",
    "        self.price = price\n",
    "    \n",
    "    def get_price(self):\n",
    "        return self.price\n",
    "\n",
    "    def set_price(self,value):\n",
    "        self.price = value\n",
    "\n",
    "obj = House(4000)\n",
    "print(obj.get_price())\n",
    "obj.set_price(9000)\n",
    "print(obj.get_price())"
   ]
  },
  {
   "cell_type": "code",
   "execution_count": 6,
   "metadata": {},
   "outputs": [
    {
     "name": "stdout",
     "output_type": "stream",
     "text": [
      "Please enter a valid price\n"
     ]
    },
    {
     "data": {
      "text/plain": [
       "4500.0"
      ]
     },
     "execution_count": 6,
     "metadata": {},
     "output_type": "execute_result"
    }
   ],
   "source": [
    "class House:\n",
    "    def __init__(self, price):\n",
    "        self._price = price\n",
    "    \n",
    "    @property\n",
    "    def price(self):\n",
    "        return self._price\n",
    "\n",
    "    @price.setter\n",
    "    def price(self,new_price):\n",
    "        if new_price > 0 and isinstance(new_price, float):\n",
    "            self._price = new_price\n",
    "        else:\n",
    "            print('Please enter a valid price')\n",
    "    \n",
    "    @price.deleter\n",
    "    def price(self):\n",
    "        del self._price\n",
    "\n",
    "house = House(4000)\n",
    "house.price\n",
    "house.price = 4500.0\n",
    "house.price\n",
    "house.price = 5000\n",
    "house.price\n",
    "# del house.price\n",
    "# house.price"
   ]
  },
  {
   "cell_type": "code",
   "execution_count": 13,
   "metadata": {},
   "outputs": [
    {
     "data": {
      "text/plain": [
       "True"
      ]
     },
     "execution_count": 13,
     "metadata": {},
     "output_type": "execute_result"
    }
   ],
   "source": [
    "import random\n",
    "random.choice([True, False])"
   ]
  },
  {
   "cell_type": "code",
   "execution_count": null,
   "metadata": {},
   "outputs": [],
   "source": [
    "!pip install pyautogui"
   ]
  },
  {
   "cell_type": "code",
   "execution_count": 2,
   "metadata": {},
   "outputs": [
    {
     "name": "stdout",
     "output_type": "stream",
     "text": [
      "Moving mouse left and right. Press Ctrl+C to stop.\n",
      "\n",
      "Movement stopped by user.\n"
     ]
    }
   ],
   "source": [
    "import pyautogui\n",
    "import time\n",
    "\n",
    "try:\n",
    "    print(\"Moving mouse left and right. Press Ctrl+C to stop.\")\n",
    "    while True:\n",
    "        pyautogui.moveRel(100, 0, duration=0.5)  # Move right by 100 pixels\n",
    "        time.sleep(0.5)\n",
    "        pyautogui.moveRel(-100, 0, duration=0.5) # Move left by 100 pixels\n",
    "        time.sleep(0.5)\n",
    "except KeyboardInterrupt:\n",
    "    print(\"\\nMovement stopped by user.\")\n"
   ]
  },
  {
   "cell_type": "code",
   "execution_count": null,
   "metadata": {},
   "outputs": [],
   "source": []
  },
  {
   "cell_type": "code",
   "execution_count": null,
   "metadata": {},
   "outputs": [],
   "source": [
    "import pyautogui\n",
    "import time\n",
    "import random\n",
    "import subprocess\n",
    "import psutil\n",
    "import win32gui\n",
    "import win32process\n",
    "\n",
    "# Random sentences\n",
    "sentences = [\n",
    "    \"The quick brown fox jumps over the lazy dog.\",\n",
    "    \"Python is fun and powerful.\",\n",
    "    \"Automating tasks can save a lot of time.\",\n",
    "    \"Errors are opportunities to learn.\",\n",
    "    \"One step at a time.\"\n",
    "]\n",
    "\n",
    "# Function to check if Notepad window is still open\n",
    "def is_notepad_window_open(pid):\n",
    "    def callback(hwnd, pid_list):\n",
    "        try:\n",
    "            _, win_pid = win32process.GetWindowThreadProcessId(hwnd)\n",
    "            if win_pid == pid and win32gui.IsWindowVisible(hwnd):\n",
    "                pid_list.append(True)\n",
    "        except:\n",
    "            pass\n",
    "        return True\n",
    "\n",
    "    visible_windows = []\n",
    "    win32gui.EnumWindows(callback, visible_windows)\n",
    "    return bool(visible_windows)\n",
    "\n",
    "# Launch Notepad and get process\n",
    "notepad_process = subprocess.Popen(\"notepad.exe\")\n",
    "time.sleep(2)\n",
    "\n",
    "try:\n",
    "    print(\"Typing... Close Notepad to simulate 'Don't Save', or press Ctrl+C.\")\n",
    "    while True:\n",
    "        if not is_notepad_window_open(notepad_process.pid):\n",
    "            print(\"Detected Notepad was closed. Simulating 'Don't Save'...\")\n",
    "\n",
    "            # Wait a bit for Save dialog to appear\n",
    "            time.sleep(1)\n",
    "\n",
    "            # Press 'Tab' to move focus from 'Save' to 'Don't Save', then press 'Enter'\n",
    "            pyautogui.press('tab')     # Focus: Save -> Don't Save\n",
    "            time.sleep(0.2)\n",
    "            pyautogui.press('enter')   # Select Don't Save\n",
    "            break\n",
    "\n",
    "        sentence = random.choice(sentences)\n",
    "        pyautogui.typewrite(sentence + \"\\n\", interval=0.05)\n",
    "        time.sleep(1)\n",
    "\n",
    "except KeyboardInterrupt:\n",
    "    print(\"\\nKeyboard interrupt detected. Simulating Notepad close without saving...\")\n",
    "    # Simulate Alt+F4 to close\n",
    "    pyautogui.hotkey('alt', 'f4')\n",
    "    time.sleep(1)\n",
    "    pyautogui.press('tab')\n",
    "    time.sleep(0.2)\n",
    "    pyautogui.press('enter')\n"
   ]
  }
 ],
 "metadata": {
  "kernelspec": {
   "display_name": "Python 3",
   "language": "python",
   "name": "python3"
  },
  "language_info": {
   "codemirror_mode": {
    "name": "ipython",
    "version": 3
   },
   "file_extension": ".py",
   "mimetype": "text/x-python",
   "name": "python",
   "nbconvert_exporter": "python",
   "pygments_lexer": "ipython3",
   "version": "3.9.0"
  }
 },
 "nbformat": 4,
 "nbformat_minor": 2
}
