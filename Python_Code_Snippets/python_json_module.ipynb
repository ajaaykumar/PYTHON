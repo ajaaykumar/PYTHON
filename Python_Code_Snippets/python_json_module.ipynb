{
 "cells": [
  {
   "cell_type": "markdown",
   "metadata": {},
   "source": [
    "1. json.loads\n",
    "\n",
    "Purpose: Converts a JSON-formatted string into a Python object (dictionary, list, etc.).  \n",
    "Key Point: \"loads\" stands for \"load string\"."
   ]
  },
  {
   "cell_type": "code",
   "execution_count": null,
   "metadata": {},
   "outputs": [],
   "source": [
    "import json\n",
    "\n",
    "# JSON string\n",
    "json_string = '{\"name\": \"Alice\", \"age\": 25, \"isStudent\": false}'\n",
    "\n",
    "# Convert JSON string to Python dictionary\n",
    "python_object = json.loads(json_string)\n",
    "print(python_object)  \n",
    "# Output: {'name': 'Alice', 'age': 25, 'isStudent': False}\n"
   ]
  },
  {
   "cell_type": "markdown",
   "metadata": {},
   "source": [
    "***json.load***\n",
    "\n",
    "Purpose: Reads JSON data from a file and converts it into a Python object.\n",
    "\n",
    "Key Point: \"load\" is used for reading JSON data from a file-like object.\n"
   ]
  },
  {
   "cell_type": "code",
   "execution_count": null,
   "metadata": {},
   "outputs": [],
   "source": [
    "# Assuming a file 'data.json' contains: {\"name\": \"Alice\", \"age\": 25, \"isStudent\": false}\n",
    "with open('data.json', 'r') as file:\n",
    "    python_object = json.load(file)\n",
    "\n",
    "print(python_object)  # Output: {'name': 'Alice', 'age': 25, 'isStudent': False}\n"
   ]
  },
  {
   "cell_type": "markdown",
   "metadata": {},
   "source": [
    "**3. json.dumps**\n",
    "\n",
    " **Purpose:** Converts a Python object (dictionary, list, etc.) into a JSON-formatted string.  \n",
    " **Key Point:** \"dumps\" stands for \"dump string\"."
   ]
  },
  {
   "cell_type": "code",
   "execution_count": null,
   "metadata": {},
   "outputs": [],
   "source": [
    " json.dumps(python_object, indent=N)  # `indent` makes the JSON output more readable"
   ]
  },
  {
   "cell_type": "code",
   "execution_count": 3,
   "metadata": {},
   "outputs": [
    {
     "name": "stdout",
     "output_type": "stream",
     "text": [
      "{\n",
      "    \"name\": \"Alice\",\n",
      "    \"age\": 25,\n",
      "    \"isStudent\": false\n",
      "}\n"
     ]
    }
   ],
   "source": [
    "python_object = {'name': 'Alice', 'age': 25, 'isStudent': False}\n",
    "\n",
    "# Convert Python object to JSON string\n",
    "json_string = json.dumps(python_object, indent=4)\n",
    "print(json_string)\n",
    "# Output:\n",
    "# {\n",
    "#     \"name\": \"Alice\",\n",
    "#     \"age\": 25,\n",
    "#     \"isStudent\": false\n",
    "# }\n"
   ]
  },
  {
   "cell_type": "markdown",
   "metadata": {},
   "source": [
    "4. json.dump\n",
    "\n",
    "Purpose: Writes a Python object as JSON data to a file.  \n",
    "Key Point: \"dump\" is used for writing JSON data into a file"
   ]
  },
  {
   "cell_type": "code",
   "execution_count": null,
   "metadata": {},
   "outputs": [],
   "source": [
    "json.dump(python_object, file_object, indent=N)"
   ]
  },
  {
   "cell_type": "code",
   "execution_count": null,
   "metadata": {},
   "outputs": [],
   "source": [
    "python_object = {'name': 'Alice', 'age': 25, 'isStudent': False}\n",
    "\n",
    "# Write Python object to a JSON file\n",
    "with open('output.json', 'w') as file:\n",
    "    json.dump(python_object, file, indent=4)\n",
    "\n",
    "# Check the 'output.json' file:\n",
    "# {\n",
    "#     \"name\": \"Alice\",\n",
    "#     \"age\": 25,\n",
    "#     \"isStudent\": false\n",
    "# }\n"
   ]
  },
  {
   "cell_type": "code",
   "execution_count": null,
   "metadata": {},
   "outputs": [],
   "source": []
  }
 ],
 "metadata": {
  "kernelspec": {
   "display_name": "Python 3",
   "language": "python",
   "name": "python3"
  },
  "language_info": {
   "codemirror_mode": {
    "name": "ipython",
    "version": 3
   },
   "file_extension": ".py",
   "mimetype": "text/x-python",
   "name": "python",
   "nbconvert_exporter": "python",
   "pygments_lexer": "ipython3",
   "version": "3.9.0"
  }
 },
 "nbformat": 4,
 "nbformat_minor": 2
}
