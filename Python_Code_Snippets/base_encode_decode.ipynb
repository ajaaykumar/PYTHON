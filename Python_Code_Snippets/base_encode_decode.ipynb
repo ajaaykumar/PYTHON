{
 "cells": [
  {
   "cell_type": "markdown",
   "metadata": {},
   "source": []
  },
  {
   "cell_type": "code",
   "execution_count": 4,
   "metadata": {},
   "outputs": [],
   "source": [
    "def base10Encode(inputString):\n",
    "    stringAsBytes = bytes(inputString, \"utf-8\")\n",
    "    stringAsBase10 = \"\"\n",
    "    for byte in stringAsBytes:\n",
    "        byteStr = str(byte).rjust(3, '\\0') # Pad left with null to aide decoding\n",
    "        print(byteStr)\n",
    "        stringAsBase10 += byteStr\n",
    "        print(f\"stringAsBase10: {stringAsBase10}\")\n",
    "    return stringAsBase10\n",
    "\n",
    "def base10Decode(inputString):\n",
    "    base10Blocks = []\n",
    "    for i in range(0, len(inputString), 3):\n",
    "        base10Blocks.append(inputString[i:i+3])\n",
    "    decodedBytes = bytearray(len(base10Blocks))\n",
    "    for i, block in enumerate(base10Blocks):\n",
    "        blockStr = block.replace('\\0', '')\n",
    "        decodedBytes[i] = int(blockStr)\n",
    "    return decodedBytes.decode(\"utf-8\")"
   ]
  },
  {
   "cell_type": "code",
   "execution_count": 5,
   "metadata": {},
   "outputs": [
    {
     "name": "stdout",
     "output_type": "stream",
     "text": [
      "\u000065\n",
      "stringAsBase10: \u000065\n",
      "106\n",
      "stringAsBase10: \u000065106\n",
      "\u000097\n",
      "stringAsBase10: \u000065106\u000097\n",
      "121\n",
      "stringAsBase10: \u000065106\u000097121\n",
      "Ajay\n"
     ]
    }
   ],
   "source": [
    "encoded_response = base10Encode(\"Ajay\")\n",
    "print(base10Decode(str(encoded_response)))"
   ]
  },
  {
   "cell_type": "code",
   "execution_count": null,
   "metadata": {},
   "outputs": [],
   "source": []
  }
 ],
 "metadata": {
  "kernelspec": {
   "display_name": "Python 3",
   "language": "python",
   "name": "python3"
  },
  "language_info": {
   "codemirror_mode": {
    "name": "ipython",
    "version": 3
   },
   "file_extension": ".py",
   "mimetype": "text/x-python",
   "name": "python",
   "nbconvert_exporter": "python",
   "pygments_lexer": "ipython3",
   "version": "3.9.0"
  }
 },
 "nbformat": 4,
 "nbformat_minor": 2
}
