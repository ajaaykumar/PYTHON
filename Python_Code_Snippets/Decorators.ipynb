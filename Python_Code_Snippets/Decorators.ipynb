{
 "cells": [
  {
   "cell_type": "markdown",
   "metadata": {},
   "source": [
    "in Python, functions are objects. </br>\n",
    "This means you can assign them to variables, </br>\n",
    "Pass them as arguments to other functions, </br>\n",
    "and even return them from other functions. </br>\n",
    "This is because Python treats functions as first-class objects."
   ]
  },
  {
   "cell_type": "markdown",
   "metadata": {},
   "source": [
    "- **Assigning a function to a variable\n",
    "python**\n"
   ]
  },
  {
   "cell_type": "code",
   "execution_count": null,
   "metadata": {},
   "outputs": [],
   "source": [
    "def greet(name):\n",
    "    return f\"Hello, {name}!\"\n",
    "\n",
    "say_hello = greet  # Assigning the function to a variable\n",
    "print(say_hello(\"Alice\"))  # Output: Hello, Alice!\n"
   ]
  },
  {
   "cell_type": "markdown",
   "metadata": {},
   "source": [
    "- **Passing a function as an argument\n",
    "python**\n"
   ]
  },
  {
   "cell_type": "code",
   "execution_count": 6,
   "metadata": {},
   "outputs": [
    {
     "name": "stdout",
     "output_type": "stream",
     "text": [
      "Hello, Bob!\n"
     ]
    }
   ],
   "source": [
    "def execute_function(func, value):\n",
    "    return func(value)\n",
    "\n",
    "print(execute_function(greet, \"Bob\"))  # Output: Hello, Bob!"
   ]
  },
  {
   "cell_type": "markdown",
   "metadata": {},
   "source": [
    "- **Returning a function from another function\n",
    "python**\n"
   ]
  },
  {
   "cell_type": "code",
   "execution_count": null,
   "metadata": {},
   "outputs": [],
   "source": [
    "def outer_function():\n",
    "    def inner_function():\n",
    "        return \"Hello from inner function!\"\n",
    "    return inner_function\n",
    "\n",
    "inner = outer_function()\n",
    "print(inner())  # Output: Hello from inner function!\n"
   ]
  },
  {
   "cell_type": "code",
   "execution_count": null,
   "metadata": {},
   "outputs": [],
   "source": [
    "def outerfunc():\n",
    "    def inner_func():\n",
    "        print(\"Inner Function\")\n",
    "    return inner_func\n",
    "\n",
    "inner = outerfunc() # This returns a function object\n",
    "inner()"
   ]
  },
  {
   "cell_type": "code",
   "execution_count": null,
   "metadata": {},
   "outputs": [],
   "source": [
    "def anotherfun(func):\n",
    "    print(\"Start\")\n",
    "    func()\n",
    "    print(\"End\")\n",
    "\n",
    "\n",
    "def fun():\n",
    "    print(\"Hello\")\n",
    "\n",
    "anotherfun(fun)"
   ]
  },
  {
   "cell_type": "code",
   "execution_count": null,
   "metadata": {},
   "outputs": [],
   "source": [
    "def fun1(func):\n",
    "    def wrapper():\n",
    "        print(\"Started\")\n",
    "        func()\n",
    "        print(\"Ended\")\n",
    "    return wrapper\n",
    "\n",
    "def f1():\n",
    "    print('Hi')"
   ]
  },
  {
   "cell_type": "code",
   "execution_count": null,
   "metadata": {},
   "outputs": [],
   "source": [
    "# fun1(f1) # <function __main__.fun1.<locals>.wrapper()>\n",
    "# fun1(f1)()\n",
    "f = fun1(f1)\n",
    "f()"
   ]
  },
  {
   "cell_type": "code",
   "execution_count": null,
   "metadata": {},
   "outputs": [],
   "source": [
    "def fun1(func):\n",
    "    def wrapper():\n",
    "        print(\"Started\")\n",
    "        func()\n",
    "        print(\"Ended\")\n",
    "    return wrapper\n",
    "\n",
    "@fun1\n",
    "def f1():\n",
    "    print('Hi')\n",
    "\n",
    "f1()"
   ]
  },
  {
   "cell_type": "code",
   "execution_count": null,
   "metadata": {},
   "outputs": [],
   "source": [
    "def fun1(func):\n",
    "    def wrapper(*args,**kwargs):\n",
    "        print(\"Started\")\n",
    "        val = func(*args, **kwargs)\n",
    "        print(\"Ended\")\n",
    "        return val\n",
    "    return wrapper\n",
    "\n",
    "@fun1\n",
    "def f1(a):\n",
    "    return a\n",
    "\n",
    "print(f1('Hiiii'))"
   ]
  },
  {
   "cell_type": "code",
   "execution_count": null,
   "metadata": {},
   "outputs": [],
   "source": [
    "def fun1(func):\n",
    "    def wrapper(*args,**kwargs):\n",
    "        print(\"Started\")\n",
    "        val = func(*args, **kwargs)\n",
    "        print(\"Ended\")\n",
    "        return val\n",
    "    return wrapper\n",
    "\n",
    "@fun1\n",
    "def f1(a, b=' Ajay'):\n",
    "    print(a, b)\n",
    "\n",
    "@fun1\n",
    "def add(a,b):\n",
    "    print(a + b)\n",
    "\n",
    "# f1('Hiiii')\n",
    "add(1,99)"
   ]
  },
  {
   "cell_type": "code",
   "execution_count": null,
   "metadata": {},
   "outputs": [],
   "source": [
    "# Example 1\n",
    "def before_after(func):\n",
    "    def wrapper(*args):\n",
    "        print(\"Before\")\n",
    "        func(*args)\n",
    "        print(\"After\")\n",
    "    return wrapper\n",
    "\n",
    "class Test:\n",
    "    @before_after\n",
    "    def decorated_method(self):\n",
    "        print(\"run\")\n",
    "\n",
    "t = Test()\n",
    "t.decorated_method()"
   ]
  },
  {
   "cell_type": "code",
   "execution_count": 1,
   "metadata": {},
   "outputs": [
    {
     "name": "stdout",
     "output_type": "stream",
     "text": [
      "The Function run took: 2.008392333984375 Seconds\n"
     ]
    }
   ],
   "source": [
    "import time\n",
    "\n",
    "# Example 2\n",
    "def timer(func):\n",
    "    def wrapper():\n",
    "        before =  time.time()\n",
    "        func()\n",
    "        print(f\"The Function {func.__name__} took:\", time.time() - before, \"Seconds\")\n",
    "    return wrapper\n",
    "\n",
    "@timer\n",
    "def run():\n",
    "    time.sleep(2)\n",
    "\n",
    "run()"
   ]
  },
  {
   "cell_type": "markdown",
   "metadata": {},
   "source": [
    "**Explain the concept of decorators in Python, providing examples of their practical use cases.**\n",
    "\n",
    "**Key points to cover in your answer:**\n",
    "\n",
    "- **Definition:** What are decorators in Python?\n",
    "- **Syntax:** How are decorators defined and applied?\n",
    "- **Functionality:** How do decorators modify the behavior of functions?\n",
    "- **Use cases:** Provide examples of common scenarios where decorators are used, such as:\n",
    "    - Logging function calls and execution time\n",
    "    - Restricting function access based on permissions\n",
    "    - Caching function results to improve performance\n",
    "    - Implementing error handling and retry mechanisms\n",
    "    - Timing function execution\n",
    "- **Implementation considerations:** Discuss potential trade-offs or considerations when using decorators, such as readability and complexity.\n",
    "\n",
    "**Additional challenges for advanced learners:**\n",
    "\n",
    "- **Decorator chaining:** Explain how multiple decorators can be applied to a single function and the order of execution.\n",
    "- **Decorators with arguments:** Demonstrate how to create decorators that accept arguments to customize their behavior.\n",
    "- **Class decorators:** Describe how decorators can be applied to classes and their methods."
   ]
  },
  {
   "cell_type": "code",
   "execution_count": 13,
   "metadata": {},
   "outputs": [
    {
     "name": "stdout",
     "output_type": "stream",
     "text": [
      "Calling function add with arguments (1256456, 256848) and keyword arguments {}\n",
      "Function add returned 1513304\n"
     ]
    },
    {
     "data": {
      "text/plain": [
       "1513304"
      ]
     },
     "execution_count": 13,
     "metadata": {},
     "output_type": "execute_result"
    }
   ],
   "source": [
    "def log_calls(func):\n",
    "    def wrapper(*args, **kwargs):\n",
    "        print(f\"Calling function {func.__name__} with arguments {args} and keyword arguments {kwargs}\")\n",
    "        result = func(*args,**kwargs)\n",
    "        print(f\"Function {func.__name__} returned {result}\")\n",
    "        return result\n",
    "    return wrapper\n",
    "\n",
    "@log_calls\n",
    "def add(a,b):\n",
    "    return a + b\n",
    "\n",
    "add(1256456,256848)\n"
   ]
  },
  {
   "cell_type": "markdown",
   "metadata": {},
   "source": [
    "## Python Decorators with arguments!"
   ]
  },
  {
   "cell_type": "code",
   "execution_count": 5,
   "metadata": {},
   "outputs": [
    {
     "data": {
      "text/plain": [
       "10"
      ]
     },
     "execution_count": 5,
     "metadata": {},
     "output_type": "execute_result"
    }
   ],
   "source": [
    "def double(func):\n",
    "    def wrapper(*args,**kwargs):\n",
    "        return 2* func(*args,**kwargs)\n",
    "    return wrapper\n",
    "\n",
    "@double\n",
    "def adder(x,y):\n",
    "    return x+y\n",
    "\n",
    "adder(2,3)"
   ]
  },
  {
   "cell_type": "code",
   "execution_count": 8,
   "metadata": {},
   "outputs": [
    {
     "data": {
      "text/plain": [
       "15"
      ]
     },
     "execution_count": 8,
     "metadata": {},
     "output_type": "execute_result"
    }
   ],
   "source": [
    "def multiply(by=None):\n",
    "    def double_wrapper(func):\n",
    "        def wrapper(*args,**kwargs):\n",
    "            return by* func(*args,**kwargs)\n",
    "        return wrapper\n",
    "    return double_wrapper\n",
    "\n",
    "@multiply(by=3)\n",
    "def adder(x,y):\n",
    "    return x+y\n",
    "\n",
    "adder(2,3)"
   ]
  },
  {
   "cell_type": "code",
   "execution_count": 22,
   "metadata": {},
   "outputs": [
    {
     "name": "stdout",
     "output_type": "stream",
     "text": [
      "HELLO WORLD!HELLO WORLD!\n"
     ]
    }
   ],
   "source": [
    "\n",
    "def multiply(func):\n",
    "    def mult_wrapper(*args,**kwargs):\n",
    "        return 2 * func(*args,**kwargs)\n",
    "    return mult_wrapper\n",
    "\n",
    "def formatting(lowercase=False):\n",
    "    def formatter_real(func):\n",
    "        def formatter_wrapper(*args,**kwargs):\n",
    "            if lowercase:\n",
    "                return func(*args,**kwargs).lower()\n",
    "            else:\n",
    "                return func(*args,**kwargs).upper()\n",
    "        return formatter_wrapper\n",
    "    return formatter_real\n",
    "\n",
    "@multiply\n",
    "@formatting(lowercase=False)\n",
    "def greeting(value=None):\n",
    "    return f'Hello {value}'\n",
    "\n",
    "print(greeting('World!'))"
   ]
  },
  {
   "cell_type": "code",
   "execution_count": null,
   "metadata": {},
   "outputs": [],
   "source": [
    "import random\n",
    "import time\n",
    "\n",
    "def retry(max_retry):\n",
    "    def decorator(func):\n",
    "        def wrapper(*args,**kwargs):\n",
    "            for attempt in range(max_retry):\n",
    "                try:\n",
    "                    return func(*args,**kwargs)\n",
    "                except Exception as e:\n",
    "                    print(f\"Attempt {attempt + 1} failed: {e}\")\n",
    "                    time.sleep(1)\n",
    "            raise Exception(f\"Failed after {max_retry} attempts\")\n",
    "        return wrapper\n",
    "    return decorator\n",
    "\n",
    "\n",
    "@retry(max_retry=3)\n",
    "def load_data():\n",
    "    if random.choice([True, False]):\n",
    "        raise Exception(\"Random failure\")\n",
    "    print(\"Data loaded successfully\")\n",
    "\n",
    "load_data()\n"
   ]
  },
  {
   "cell_type": "code",
   "execution_count": null,
   "metadata": {},
   "outputs": [],
   "source": []
  }
 ],
 "metadata": {
  "kernelspec": {
   "display_name": "Python 3",
   "language": "python",
   "name": "python3"
  },
  "language_info": {
   "codemirror_mode": {
    "name": "ipython",
    "version": 3
   },
   "file_extension": ".py",
   "mimetype": "text/x-python",
   "name": "python",
   "nbconvert_exporter": "python",
   "pygments_lexer": "ipython3",
   "version": "3.9.0"
  }
 },
 "nbformat": 4,
 "nbformat_minor": 2
}
