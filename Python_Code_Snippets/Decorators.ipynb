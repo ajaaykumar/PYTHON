{
 "cells": [
  {
   "cell_type": "markdown",
   "metadata": {},
   "source": [
    " in Python, functions are objects. This means you can assign them to variables, pass them as arguments to other functions, and even return them from other functions. This is because Python treats functions as first-class objects."
   ]
  },
  {
   "cell_type": "markdown",
   "metadata": {},
   "source": [
    "**Assigning a function to a variable\n",
    "python**\n"
   ]
  },
  {
   "cell_type": "code",
   "execution_count": null,
   "metadata": {},
   "outputs": [],
   "source": [
    "def greet(name):\n",
    "    return f\"Hello, {name}!\"\n",
    "\n",
    "say_hello = greet  # Assigning the function to a variable\n",
    "print(say_hello(\"Alice\"))  # Output: Hello, Alice!\n"
   ]
  },
  {
   "cell_type": "markdown",
   "metadata": {},
   "source": [
    "**Passing a function as an argument\n",
    "python**\n"
   ]
  },
  {
   "cell_type": "code",
   "execution_count": 6,
   "metadata": {},
   "outputs": [
    {
     "name": "stdout",
     "output_type": "stream",
     "text": [
      "Hello, Bob!\n"
     ]
    }
   ],
   "source": [
    "def execute_function(func, value):\n",
    "    return func(value)\n",
    "\n",
    "print(execute_function(greet, \"Bob\"))  # Output: Hello, Bob!\n"
   ]
  },
  {
   "cell_type": "markdown",
   "metadata": {},
   "source": [
    "**Returning a function from another function\n",
    "python**\n"
   ]
  },
  {
   "cell_type": "code",
   "execution_count": null,
   "metadata": {},
   "outputs": [],
   "source": [
    "def outer_function():\n",
    "    def inner_function():\n",
    "        return \"Hello from inner function!\"\n",
    "    return inner_function\n",
    "\n",
    "inner = outer_function()\n",
    "print(inner())  # Output: Hello from inner function!\n"
   ]
  },
  {
   "cell_type": "code",
   "execution_count": null,
   "metadata": {},
   "outputs": [],
   "source": [
    "def outerfunc():\n",
    "    def inner_func():\n",
    "        print(\"Inner Function\")\n",
    "    return inner_func\n",
    "\n",
    "inner = outerfunc() # This returns a function object\n",
    "inner()"
   ]
  },
  {
   "cell_type": "code",
   "execution_count": null,
   "metadata": {},
   "outputs": [],
   "source": [
    "def anotherfun(func):\n",
    "    print(\"Start\")\n",
    "    func()\n",
    "    print(\"End\")\n",
    "\n",
    "\n",
    "def fun():\n",
    "    print(\"Hello\")\n",
    "\n",
    "anotherfun(fun)"
   ]
  },
  {
   "cell_type": "code",
   "execution_count": null,
   "metadata": {},
   "outputs": [],
   "source": [
    "def fun1(func):\n",
    "    def wrapper():\n",
    "        print(\"Started\")\n",
    "        func()\n",
    "        print(\"Ended\")\n",
    "    return wrapper\n",
    "\n",
    "def f1():\n",
    "    print('Hi')"
   ]
  },
  {
   "cell_type": "code",
   "execution_count": null,
   "metadata": {},
   "outputs": [],
   "source": [
    "# fun1(f1) # <function __main__.fun1.<locals>.wrapper()>\n",
    "# fun1(f1)()\n",
    "f = fun1(f1)\n",
    "f()"
   ]
  },
  {
   "cell_type": "code",
   "execution_count": null,
   "metadata": {},
   "outputs": [],
   "source": [
    "def fun1(func):\n",
    "    def wrapper():\n",
    "        print(\"Started\")\n",
    "        func()\n",
    "        print(\"Ended\")\n",
    "    return wrapper\n",
    "\n",
    "@fun1\n",
    "def f1():\n",
    "    print('Hi')\n",
    "\n",
    "f1()"
   ]
  },
  {
   "cell_type": "code",
   "execution_count": null,
   "metadata": {},
   "outputs": [],
   "source": [
    "def fun1(func):\n",
    "    def wrapper(*args,**kwargs):\n",
    "        print(\"Started\")\n",
    "        val = func(*args, **kwargs)\n",
    "        print(\"Ended\")\n",
    "        return val\n",
    "    return wrapper\n",
    "\n",
    "@fun1\n",
    "def f1(a):\n",
    "    return a\n",
    "\n",
    "print(f1('Hiiii'))"
   ]
  },
  {
   "cell_type": "code",
   "execution_count": null,
   "metadata": {},
   "outputs": [],
   "source": [
    "def fun1(func):\n",
    "    def wrapper(*args,**kwargs):\n",
    "        print(\"Started\")\n",
    "        val = func(*args, **kwargs)\n",
    "        print(\"Ended\")\n",
    "        return val\n",
    "    return wrapper\n",
    "\n",
    "@fun1\n",
    "def f1(a, b=' Ajay'):\n",
    "    print(a, b)\n",
    "\n",
    "@fun1\n",
    "def add(a,b):\n",
    "    print(a + b)\n",
    "\n",
    "# f1('Hiiii')\n",
    "add(1,99)"
   ]
  },
  {
   "cell_type": "code",
   "execution_count": null,
   "metadata": {},
   "outputs": [],
   "source": [
    "# Example 1\n",
    "def before_after(func):\n",
    "    def wrapper(*args):\n",
    "        print(\"Before\")\n",
    "        func(*args)\n",
    "        print(\"After\")\n",
    "    return wrapper\n",
    "\n",
    "class Test:\n",
    "    @before_after\n",
    "    def decorated_method(self):\n",
    "        print(\"run\")\n",
    "\n",
    "t = Test()\n",
    "t.decorated_method()"
   ]
  },
  {
   "cell_type": "code",
   "execution_count": 30,
   "metadata": {},
   "outputs": [
    {
     "name": "stdout",
     "output_type": "stream",
     "text": [
      "The Function run took: 2.0142109394073486 Seconds\n"
     ]
    }
   ],
   "source": [
    "import time\n",
    "\n",
    "# Example 2\n",
    "def timer(func):\n",
    "    def wrapper():\n",
    "        before =  time.time()\n",
    "        func()\n",
    "        print(f\"The Function {func.__name__} took:\", time.time() - before, \"Seconds\")\n",
    "    return wrapper\n",
    "\n",
    "@timer\n",
    "def run():\n",
    "    time.sleep(2)\n",
    "\n",
    "run()"
   ]
  }
 ],
 "metadata": {
  "kernelspec": {
   "display_name": "Python 3",
   "language": "python",
   "name": "python3"
  },
  "language_info": {
   "codemirror_mode": {
    "name": "ipython",
    "version": 3
   },
   "file_extension": ".py",
   "mimetype": "text/x-python",
   "name": "python",
   "nbconvert_exporter": "python",
   "pygments_lexer": "ipython3",
   "version": "3.9.0"
  }
 },
 "nbformat": 4,
 "nbformat_minor": 2
}
