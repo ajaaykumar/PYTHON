{
 "cells": [
  {
   "cell_type": "code",
   "execution_count": null,
   "metadata": {},
   "outputs": [],
   "source": [
    "! pip install openpyxl"
   ]
  },
  {
   "cell_type": "code",
   "execution_count": 12,
   "metadata": {},
   "outputs": [],
   "source": [
    "import pandas as pd"
   ]
  },
  {
   "cell_type": "code",
   "execution_count": 13,
   "metadata": {},
   "outputs": [],
   "source": [
    "# create  data_frame1 by creating a dictionary\n",
    "# in which values are stored as list\n",
    "data_frame1 = pd.DataFrame({'Fruits': ['Appple', 'Banana', 'Mango',\n",
    "                                       'Dragon Fruit', 'Musk melon', 'grapes'],\n",
    "                            'Sales in kg': [20, 30, 15, 10, 50, 40]})"
   ]
  },
  {
   "cell_type": "code",
   "execution_count": 14,
   "metadata": {},
   "outputs": [],
   "source": [
    "# create  data_frame2 by creating a dictionary \n",
    "# in which values are stored as list\n",
    "data_frame2 = pd.DataFrame({'Vegetables': ['tomato', 'Onion', 'ladies finger',\n",
    "                                           'beans', 'bedroot', 'carrot'],\n",
    "                            'Sales in kg': [200, 310, 115, 110, 55, 45]})"
   ]
  },
  {
   "cell_type": "code",
   "execution_count": 15,
   "metadata": {},
   "outputs": [],
   "source": [
    "with pd.ExcelWriter(\"filename.xlsx\") as writer:\n",
    "    data_frame1.to_excel(writer, sheet_name=\"Fruits\", index=False)\n",
    "    data_frame2.to_excel(writer, sheet_name=\"Vegetables\", index=False)"
   ]
  },
  {
   "cell_type": "code",
   "execution_count": null,
   "metadata": {},
   "outputs": [],
   "source": []
  },
  {
   "cell_type": "code",
   "execution_count": 17,
   "metadata": {},
   "outputs": [],
   "source": [
    "data = [('August 2024', '20256', 'Other (Income)/Expense : Miscellaneous Revenue', 'Incomtax, Inc', 25, 0.0),('May 2024', '200056', 'Other (Income) : Revenue', 'Incomtax, Inc', 25, 0.0)]\n",
    "df = pd.DataFrame(data,columns=['acct','company_number','acctname','subsidiary','fy_mo','netsuite_amount'])\n",
    "\n",
    "# Write the DataFrame to an Excel file\n",
    "df.to_excel(\"output.xlsx\", index=False)"
   ]
  },
  {
   "cell_type": "code",
   "execution_count": null,
   "metadata": {},
   "outputs": [],
   "source": []
  }
 ],
 "metadata": {
  "kernelspec": {
   "display_name": "Python 3",
   "language": "python",
   "name": "python3"
  },
  "language_info": {
   "codemirror_mode": {
    "name": "ipython",
    "version": 3
   },
   "file_extension": ".py",
   "mimetype": "text/x-python",
   "name": "python",
   "nbconvert_exporter": "python",
   "pygments_lexer": "ipython3",
   "version": "3.10.13"
  }
 },
 "nbformat": 4,
 "nbformat_minor": 2
}
