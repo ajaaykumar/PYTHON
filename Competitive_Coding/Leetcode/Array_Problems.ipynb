{
 "cells": [
  {
   "cell_type": "markdown",
   "metadata": {},
   "source": [
    "1207. Unique Number of Occurrences\n",
    "\n",
    "Given an array of integers arr, return true if the number of occurrences of each value in the array is unique or false otherwise."
   ]
  },
  {
   "cell_type": "code",
   "execution_count": 8,
   "metadata": {},
   "outputs": [
    {
     "name": "stdout",
     "output_type": "stream",
     "text": [
      "Counter({1: 3, 2: 2, 3: 1})\n",
      "True\n"
     ]
    }
   ],
   "source": [
    "def uniqueOccurrences(arr) -> bool:\n",
    "    # count_element = {}\n",
    "    # for i in arr:\n",
    "    #     if i in count_element:\n",
    "    #         count_element[i] += 1\n",
    "    #     else:\n",
    "    #         count_element[i] = 1\n",
    "    # print(count_element)\n",
    "\n",
    "    from collections import Counter\n",
    "    count_element = Counter(arr)\n",
    "    print(count_element)\n",
    "\n",
    "    s = set()\n",
    "    for v in count_element.values():\n",
    "        if v in s:\n",
    "            return False\n",
    "        else:\n",
    "            s.add(v)\n",
    "    return True\n",
    "\n",
    "print(uniqueOccurrences(arr = [1,2,2,1,1,3]))"
   ]
  },
  {
   "cell_type": "code",
   "execution_count": null,
   "metadata": {},
   "outputs": [],
   "source": []
  }
 ],
 "metadata": {
  "kernelspec": {
   "display_name": "Python 3",
   "language": "python",
   "name": "python3"
  },
  "language_info": {
   "codemirror_mode": {
    "name": "ipython",
    "version": 3
   },
   "file_extension": ".py",
   "mimetype": "text/x-python",
   "name": "python",
   "nbconvert_exporter": "python",
   "pygments_lexer": "ipython3",
   "version": "3.10.13"
  }
 },
 "nbformat": 4,
 "nbformat_minor": 2
}
