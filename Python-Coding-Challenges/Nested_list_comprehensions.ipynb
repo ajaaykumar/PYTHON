{
 "cells": [
  {
   "cell_type": "code",
   "execution_count": null,
   "metadata": {},
   "outputs": [],
   "source": []
  },
  {
   "cell_type": "code",
   "execution_count": 1,
   "metadata": {},
   "outputs": [
    {
     "name": "stdout",
     "output_type": "stream",
     "text": [
      "['Minnesota', 'Massachusetts']\n"
     ]
    }
   ],
   "source": [
    "capital_tuples = [['Colorado', 'Denver'], ['Minnesota', 'St. Paul'], ['Massachusetts', 'Boston']]\n",
    "\n",
    "cites_and_states_starting_with_m = [\n",
    "    city_or_state\n",
    "    for city_state_in_list in capital_tuples\n",
    "    for city_or_state in city_state_in_list\n",
    "    if city_or_state[0] == 'M'\n",
    "]\n",
    "\n",
    "print(cites_and_states_starting_with_m)\n"
   ]
  },
  {
   "cell_type": "code",
   "execution_count": 2,
   "metadata": {},
   "outputs": [
    {
     "name": "stdout",
     "output_type": "stream",
     "text": [
      "{'Colorado': 'Denver', 'Minnesota': 'St. Paul', 'Massachusetts': 'Boston'}\n"
     ]
    }
   ],
   "source": [
    "capital_tuples = [[\"Colorado\", \"Denver\"], ['Minnesota', 'St. Paul'], ['Massachusetts', 'Boston']]\n",
    "capital_dic = {state:capital for state, capital in capital_tuples}\n",
    "print(capital_dic)"
   ]
  },
  {
   "cell_type": "code",
   "execution_count": 6,
   "metadata": {},
   "outputs": [
    {
     "name": "stdout",
     "output_type": "stream",
     "text": [
      "[False, True, False, True, True]\n"
     ]
    }
   ],
   "source": [
    "nums = [2, 7, 12, 17, 23]\n",
    "# odd_nums = list(filter(lambda x:x%2 !=0 ,nums))\n",
    "odd_nums = list(map(lambda x:x%2 !=0 ,nums))\n",
    "print(odd_nums)\n"
   ]
  },
  {
   "cell_type": "code",
   "execution_count": 8,
   "metadata": {},
   "outputs": [
    {
     "name": "stdout",
     "output_type": "stream",
     "text": [
      "[False, True, False, True, False, True, False, True]\n"
     ]
    }
   ],
   "source": [
    "def sqr(x):\n",
    "    return x%2==0\n",
    "lst = [-1,0,1,2,3,4,5,6]\n",
    "# odd_nums = list(filter(sqr, lst))\n",
    "odd_nums = list(map(sqr, lst))\n",
    "\n",
    "print(odd_nums)"
   ]
  },
  {
   "cell_type": "code",
   "execution_count": 11,
   "metadata": {},
   "outputs": [
    {
     "name": "stdout",
     "output_type": "stream",
     "text": [
      "['b', 'a', 'l', 'l']\n"
     ]
    }
   ],
   "source": [
    "# The main difference between a map and a filter is the return of values. A map will always have \n",
    "# a representation for elements in the list. The filter will filter out the only elements that will meet the \n",
    "# conditions in the function.\n",
    "\n",
    "def checkElementIn(a):\n",
    "    nameList = ['b','a','l','l']\n",
    "    if a in nameList:\n",
    "        return a\n",
    "testList = ['r','e','d','b','a','l','l']\n",
    "# m_list = list(map(checkElementIn, testList))\n",
    "m_list = list(filter(checkElementIn, testList))\n",
    "print(m_list)\n"
   ]
  },
  {
   "cell_type": "code",
   "execution_count": 15,
   "metadata": {},
   "outputs": [
    {
     "name": "stdout",
     "output_type": "stream",
     "text": [
      "{'Name': 'Ajay', 'experience': (('Blusapphire', 2), ('Exusia', 3)), (1,): ()}\n"
     ]
    }
   ],
   "source": [
    "samp = {'Name':'Ajay','experience':(('Blusapphire',2),('Exusia',3)),(1,):()}\n",
    "print(samp)\n"
   ]
  },
  {
   "cell_type": "code",
   "execution_count": null,
   "metadata": {},
   "outputs": [],
   "source": []
  }
 ],
 "metadata": {
  "kernelspec": {
   "display_name": "Python 3",
   "language": "python",
   "name": "python3"
  },
  "language_info": {
   "codemirror_mode": {
    "name": "ipython",
    "version": 3
   },
   "file_extension": ".py",
   "mimetype": "text/x-python",
   "name": "python",
   "nbconvert_exporter": "python",
   "pygments_lexer": "ipython3",
   "version": "3.10.13"
  }
 },
 "nbformat": 4,
 "nbformat_minor": 2
}
