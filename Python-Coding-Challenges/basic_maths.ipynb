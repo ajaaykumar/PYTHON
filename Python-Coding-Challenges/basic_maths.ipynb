{
 "cells": [
  {
   "cell_type": "code",
   "execution_count": 2,
   "metadata": {},
   "outputs": [
    {
     "name": "stdout",
     "output_type": "stream",
     "text": [
      "The number 123456 has 6 digits\n"
     ]
    }
   ],
   "source": [
    "# Problem Statement: Given an integer N, return the number of digits in N.\n",
    "\n",
    "def no_of_digits(numbers):\n",
    "    print(f\"The number {numbers} has {len(str(numbers))} digits\")\n",
    "no_of_digits(123456)"
   ]
  },
  {
   "cell_type": "code",
   "execution_count": null,
   "metadata": {},
   "outputs": [],
   "source": []
  }
 ],
 "metadata": {
  "kernelspec": {
   "display_name": "Python 3",
   "language": "python",
   "name": "python3"
  },
  "language_info": {
   "codemirror_mode": {
    "name": "ipython",
    "version": 3
   },
   "file_extension": ".py",
   "mimetype": "text/x-python",
   "name": "python",
   "nbconvert_exporter": "python",
   "pygments_lexer": "ipython3",
   "version": "3.10.13"
  }
 },
 "nbformat": 4,
 "nbformat_minor": 2
}
