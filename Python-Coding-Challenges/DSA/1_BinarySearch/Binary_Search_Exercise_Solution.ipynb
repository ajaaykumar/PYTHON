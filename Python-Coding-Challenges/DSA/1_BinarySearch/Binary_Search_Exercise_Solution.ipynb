{
 "cells": [
  {
   "cell_type": "markdown",
   "metadata": {},
   "source": [
    "**PROBLEM 1**\n",
    "\n",
    "When I try to find number 5 in below list using binary search, it doesn't work and returns me -1 index. Why is that?\n",
    "numbers = [1,4,6,9,10,5,7]\n",
    "Answer: It is because the list is not sorted! Binary search requires that list has to be sorted"
   ]
  },
  {
   "cell_type": "code",
   "execution_count": null,
   "metadata": {},
   "outputs": [],
   "source": []
  }
 ],
 "metadata": {
  "language_info": {
   "name": "python"
  }
 },
 "nbformat": 4,
 "nbformat_minor": 2
}
