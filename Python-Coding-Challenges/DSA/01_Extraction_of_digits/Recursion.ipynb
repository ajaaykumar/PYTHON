{
 "cells": [
  {
   "cell_type": "markdown",
   "metadata": {},
   "source": [
    "Recursion"
   ]
  },
  {
   "cell_type": "code",
   "execution_count": null,
   "metadata": {},
   "outputs": [],
   "source": [
    "def countdown(n):\n",
    "    if n>0:\n",
    "        print(n)\n",
    "        return countdown(n-1)\n",
    "        \n",
    "countdown(n=15)"
   ]
  },
  {
   "cell_type": "markdown",
   "metadata": {},
   "source": [
    "Parameratized Recursion"
   ]
  },
  {
   "cell_type": "code",
   "execution_count": null,
   "metadata": {},
   "outputs": [],
   "source": [
    "def func(sum,i,n):\n",
    "    if i > 4:\n",
    "        print(sum) \n",
    "        return\n",
    "    func(sum+i,i+1,n)\n",
    "\n",
    "func(0,1,4)"
   ]
  },
  {
   "cell_type": "markdown",
   "metadata": {},
   "source": [
    "Functional Recursion"
   ]
  },
  {
   "cell_type": "code",
   "execution_count": null,
   "metadata": {},
   "outputs": [],
   "source": [
    "\"\"\" sum of 1 to N \"\"\"\n",
    "def fun(n):\n",
    "    if n == 1:\n",
    "        return 1\n",
    "    else:\n",
    "        return n + fun(n-1)\n",
    "    \n",
    "print(fun(10))  # Output: 55"
   ]
  },
  {
   "cell_type": "markdown",
   "metadata": {},
   "source": [
    "Find the Factorial of a Number"
   ]
  },
  {
   "cell_type": "code",
   "execution_count": null,
   "metadata": {},
   "outputs": [],
   "source": [
    "\"\"\" sum of 1 to N \"\"\"\n",
    "def fun(num):\n",
    "    if num == 0 or num == 1:\n",
    "        return 1\n",
    "    else:\n",
    "        return num * fun(num-1)\n",
    "    \n",
    "print(fun(5))  # Output: 55"
   ]
  },
  {
   "cell_type": "markdown",
   "metadata": {},
   "source": [
    "Reverse an Array Using Recursion"
   ]
  },
  {
   "cell_type": "code",
   "execution_count": 1,
   "metadata": {},
   "outputs": [
    {
     "name": "stdout",
     "output_type": "stream",
     "text": [
      "[5, 7, 3, 2, 6, 1, 5, 9]\n"
     ]
    }
   ],
   "source": [
    "# Using pointer approach \n",
    "# this is a recursive function to reverse an array using pointers\n",
    "# it takes the first and last index of the array and the array itself as arguments\n",
    "# it swaps the elements at the first and last index and then calls itself with the next pair of indices until the base case is reached\n",
    "# where the first index is greater than or equal to the last index \n",
    "\n",
    "def func(l,r,n):\n",
    "    if l >= r: # base case \n",
    "        print(n)\n",
    "        return\n",
    "    n[l],n[r] = n[r],n[l] # swap\n",
    "    func(l+1,r-1,n) # recursive call\n",
    "# Example usage\n",
    "    \n",
    "n=[5,7,1,6,2,3,5,9]\n",
    "# func(l=0,r=len(n)-1,n=n)\n",
    "func(l=2,r=5,n=n)"
   ]
  },
  {
   "cell_type": "markdown",
   "metadata": {},
   "source": [
    "Check if a String is Palindrome or Not Using Recussion."
   ]
  },
  {
   "cell_type": "code",
   "execution_count": null,
   "metadata": {},
   "outputs": [],
   "source": [
    "# Basic approach\n",
    "s = 'MADAM'\n",
    "def func(s,l,r):\n",
    "    if l>=r:\n",
    "        print(True)\n",
    "        return\n",
    "    if s[l] == s[r]:\n",
    "        func(s,l+1,r-1)\n",
    "    else:\n",
    "        print(False)\n",
    "        return\n",
    "\n",
    "# func(s,l=0,r=len(s)-1)\n",
    "\n",
    "\n",
    "#######################################################################################################################\n",
    "def func2(s,left,right):\n",
    "    if left >= right: # base case \n",
    "        return True # if the left pointer is greater than or equal to the right pointer, return True\n",
    "    \n",
    "    if s[left] != s[right]: # if the characters are not equal, return False \n",
    "        return False  \n",
    "    \n",
    "    return func(s,left+1,right-1) # recursive call with updated pointers\n",
    "\n",
    "# s= 'NITIN'\n",
    "s= 'JATAN'\n",
    "n = len(s)\n",
    "left = 0\n",
    "right = n-1\n",
    "func2(s=s,left=left,right=right) # call the function with the string and the left and right pointers\n",
    "# The above code is a recursive function to check if a string is a palindrome using string slicing\n",
    "# time comparison: O(n) for both approaches\n",
    "# space complexity: O(n) for the recursive stack space\n",
    "\n",
    "\n",
    "#######################################################################################################################\n",
    "# Insted using string slicing we have to use pointer approach\n",
    "# Example usage\n",
    "def func(s,left,right):\n",
    "    while left<=right: # loop until the left pointer is less than or equal to the right pointer example: 0<=4, 1<=3, 2<=2\n",
    "        # check if the characters at the left and right pointers are equal \n",
    "        if s[left] != s[right]: # if the characters at the pointers are not equal, return False\n",
    "            return False\n",
    "        left += 1 # move the left pointer to the right\n",
    "        right -= 1 # move the right pointer to the left\n",
    "    # if the loop completes without returning False, return True\n",
    "    return True\n",
    "\n",
    "s = 'MADAM'\n",
    "n = len(s)\n",
    "left=0\n",
    "right = n-1\n",
    "# print(func(s,left, right))\n",
    "# time complexity: O(n) for both approaches\n",
    "# space complexity: O(1) for the iterative approach and O(n) for the recursive approach\n",
    "\n"
   ]
  },
  {
   "cell_type": "markdown",
   "metadata": {},
   "source": [
    "Find the **Fibonacci Number** Using Recussion."
   ]
  },
  {
   "cell_type": "code",
   "execution_count": null,
   "metadata": {},
   "outputs": [],
   "source": [
    "# Fibonacci series using recursion\n",
    "# The Fibonacci series is a sequence of numbers where each number is the sum of the two preceding ones, usually starting with 0 and 1.\n",
    "# The series goes: 0, 1, 1, 2, 3, 5, 8, 13, 21, 34, ...\n",
    "# The Fibonacci function is defined recursively as follows:\n",
    "# fib(n) = fib(n-1) + fib(n-2) for n > 1\n",
    "# fib(0) = 0\n",
    "# fib(1) = 1\n",
    "# The function takes an integer n as input and returns the nth Fibonacci number.\n",
    "# The function uses recursion to calculate the Fibonacci number by calling itself with the two preceding numbers until it reaches the base case of 0 or 1. \n",
    "# The time complexity of this function is O(2^n) because it makes two recursive calls for each non-base case, leading to an exponential growth in the number of calls.\n",
    "# The space complexity is O(n) due to the recursive call stack.\n",
    "# Example usage\n",
    "def func(num):\n",
    "    if num == 0 or num == 1:\n",
    "        return num\n",
    "    return func(num-1) + func(num-2)\n",
    "\n",
    "print(func(5))\n",
    "# Output: 5\n",
    "# The 5th Fibonacci number is 5 (0, 1, 1, 2, 3, 5)\n"
   ]
  }
 ],
 "metadata": {
  "kernelspec": {
   "display_name": "Python 3",
   "language": "python",
   "name": "python3"
  },
  "language_info": {
   "codemirror_mode": {
    "name": "ipython",
    "version": 3
   },
   "file_extension": ".py",
   "mimetype": "text/x-python",
   "name": "python",
   "nbconvert_exporter": "python",
   "pygments_lexer": "ipython3",
   "version": "3.9.0"
  }
 },
 "nbformat": 4,
 "nbformat_minor": 2
}
