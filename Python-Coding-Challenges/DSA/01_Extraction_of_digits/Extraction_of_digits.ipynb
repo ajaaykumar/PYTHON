{
 "cells": [
  {
   "cell_type": "markdown",
   "metadata": {},
   "source": [
    "**Extraction of Digits Using Loops**\n",
    "- Reverse a number\n",
    "- Count Digits"
   ]
  },
  {
   "cell_type": "code",
   "execution_count": 1,
   "metadata": {},
   "outputs": [
    {
     "name": "stdout",
     "output_type": "stream",
     "text": [
      "3\n",
      "7\n",
      "8\n",
      "5\n"
     ]
    }
   ],
   "source": [
    "# dividend = 17\n",
    "# divisor = 5\n",
    "# quotient = dividend // divisor   # Floor division\n",
    "# remainder = dividend % divisor   # Modulo operation\n",
    "# print(f\"Quotient: {quotient}, Remainder: {remainder}\")\n",
    "\n",
    "n = 5873\n",
    "nums = n\n",
    "while nums > 0: \n",
    "    last_digit = nums % 10 # holders 5873 % 10 = 3\n",
    "    print(last_digit)\n",
    "    nums = nums // 10 # holders 5873 // 10 = 587"
   ]
  },
  {
   "cell_type": "code",
   "execution_count": null,
   "metadata": {},
   "outputs": [],
   "source": [
    "\"\"\"Count Digits in a number\"\"\"\n",
    "n = 5873\n",
    "nums = n\n",
    "count = 0\n",
    "while nums > 0:\n",
    "    last_digit = nums % 10\n",
    "    print(last_digit)\n",
    "    count += 1\n",
    "    nums = nums // 10\n",
    "print(f\"Total Digits: {count}\") \n",
    "\n",
    "# Time complexity: O(log n)\n",
    "    # 587 // 10 = 58\n",
    "    # 58 // 10 = 5\n",
    "    # 5 // 10 = 0\n",
    "    # 0 // 10 = 0\n",
    "from math import log10\n",
    "count = int(log10(n)+1)\n",
    "print(count)"
   ]
  },
  {
   "cell_type": "markdown",
   "metadata": {},
   "source": [
    "3. Check if a Number is **Palindrome**."
   ]
  },
  {
   "cell_type": "code",
   "execution_count": null,
   "metadata": {},
   "outputs": [],
   "source": [
    "def palindrome():\n",
    "    n = 1234\n",
    "    nums = n\n",
    "    reverse = 0 \n",
    "    while nums > 0:\n",
    "        last_dig = nums % 10 # 1234 % 10 = 4\n",
    "        reverse = (reverse * 10) + last_dig # 0 * 10 + 4 = 4\n",
    "        print(reverse) # 4 * 10 + 3 = 43\n",
    "        nums = nums // 10 # 1234 // 10 = 123\n",
    "    return n == reverse\n",
    "\n",
    "print(palindrome())\n"
   ]
  },
  {
   "cell_type": "markdown",
   "metadata": {},
   "source": [
    "4. Check if a Number is **Armstrong Number**."
   ]
  },
  {
   "cell_type": "code",
   "execution_count": 2,
   "metadata": {},
   "outputs": [
    {
     "name": "stdout",
     "output_type": "stream",
     "text": [
      "True\n"
     ]
    }
   ],
   "source": [
    "def armstrong(): # Armstrong number\n",
    "    n = 1634\n",
    "    nums = n\n",
    "    total = 0\n",
    "    number_of_digits = len(str(n)) # 4 digits in 1634\n",
    "    while nums > 0:\n",
    "        ld = nums % 10 # 1634 % 10 = 4\n",
    "        total = (ld**number_of_digits) + total # 4^4 + 0 = 256 + 0 = 256\n",
    "        nums = nums // 10 # 1634 // 10 = 163\n",
    "    return n == total\n",
    "print(armstrong())"
   ]
  },
  {
   "cell_type": "markdown",
   "metadata": {},
   "source": [
    "5. Print the **Factors** of a Given Number."
   ]
  },
  {
   "cell_type": "code",
   "execution_count": 1,
   "metadata": {},
   "outputs": [
    {
     "name": "stdout",
     "output_type": "stream",
     "text": [
      "[1, 2, 3, 4, 6, 7, 9, 12, 18, 36]\n"
     ]
    }
   ],
   "source": [
    "from math import sqrt\n",
    "\n",
    "n = 36\n",
    "result = []\n",
    "for i in range(1,int(sqrt(n))+1):\n",
    "    if n%i == 0:\n",
    "        result.append(i)\n",
    "    if n//i != i:\n",
    "        result.append(n//i)\n",
    "result.sort()\n",
    "print(result)"
   ]
  },
  {
   "cell_type": "markdown",
   "metadata": {},
   "source": [
    "6. Frequency Map/ Dictionary"
   ]
  },
  {
   "cell_type": "code",
   "execution_count": null,
   "metadata": {},
   "outputs": [],
   "source": [
    "nums = [5,6,7,7,1,9,1]\n",
    "dict = {}\n",
    "for i in range(len(nums)):\n",
    "    if nums[i] in dict:\n",
    "        dict[nums[i]] = dict[nums[i]] + 1 # 5 = 1, 6 = 1, 7 = 2, 1 = 2, 9 = 1\n",
    "        # dict[nums[i]] += 1\n",
    "    else:\n",
    "        dict[nums[i]] = 1\n",
    "print(dict)\n",
    "\n",
    "\n",
    "# Optimed approach\n",
    "nums = [5,6,7,7,1,9,1]\n",
    "dict = {}\n",
    "for i in range(len(nums)):\n",
    "    dict[nums[i]] = dict.get(nums[i],0) + 1 # get() method returns the value for the key if it is in the dictionary, else default value (0) is returned.\n",
    "    # dict[nums[i]] = dict.get(nums[i],0) + 1\n",
    "print(dict)"
   ]
  },
  {
   "cell_type": "markdown",
   "metadata": {},
   "source": [
    "Hashing"
   ]
  },
  {
   "cell_type": "code",
   "execution_count": null,
   "metadata": {},
   "outputs": [],
   "source": [
    "n = [5,3,2,2,1,5,5,7,5,10]\n",
    "m = [10,111,1,9,5,67,2]\n",
    "\n",
    "hash_list = [0]*11 # Initialize a list of size 11 with all elements as 0  \n",
    "\n",
    "for i in n:\n",
    "    hash_list[i] = hash_list[i]+1 # Increment the count of each element in n\n",
    "    # hash_list[5] = 4, hash_list[3] = 1, hash_list[2] = 2, hash_list[1] = 1, hash_list[7] = 1, hash_list[10] = 1\n",
    "\n",
    "for j in m:\n",
    "    if j<0 or j>10:\n",
    "        print(0)\n",
    "    else:\n",
    "        print(hash_list[j])\n",
    "\n",
    "# Time complexity: O(n+m) \n",
    "# Space complexity: O(n)\n",
    "\n",
    "\n",
    "#################################################\n",
    "# Optimized approach using dictionary\n",
    "# Time complexity: O(n+m)\n",
    "# Space complexity: O(n)\n",
    "# Using dictionary to count frequencies of elements in n\n",
    "# and then checking frequencies for elements in m\n",
    "# using dictionary to count frequencies of elements in n\n",
    "n = [5,3,2,2,1,5,5,7,5,10]\n",
    "m = [10,111,1,9,5,67,2]\n",
    "hash_values = {}\n",
    "\n",
    "for i in n:\n",
    "    hash_values[i] = hash_values.get(i,0) + 1\n",
    "\n",
    "for j in m:\n",
    "    if j in hash_values:\n",
    "        print(hash_values[j])\n",
    "    else:\n",
    "        print(0)\n"
   ]
  },
  {
   "cell_type": "code",
   "execution_count": null,
   "metadata": {},
   "outputs": [],
   "source": []
  }
 ],
 "metadata": {
  "kernelspec": {
   "display_name": "Python 3",
   "language": "python",
   "name": "python3"
  },
  "language_info": {
   "codemirror_mode": {
    "name": "ipython",
    "version": 3
   },
   "file_extension": ".py",
   "mimetype": "text/x-python",
   "name": "python",
   "nbconvert_exporter": "python",
   "pygments_lexer": "ipython3",
   "version": "3.9.0"
  }
 },
 "nbformat": 4,
 "nbformat_minor": 2
}
