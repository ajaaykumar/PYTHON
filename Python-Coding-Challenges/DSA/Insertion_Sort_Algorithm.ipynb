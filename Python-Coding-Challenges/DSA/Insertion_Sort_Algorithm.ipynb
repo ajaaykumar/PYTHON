{
 "cells": [
  {
   "cell_type": "markdown",
   "metadata": {},
   "source": [
    "Insertion sort is a sorting algorithm that places an unsorted element at its suitable place in each iteration"
   ]
  },
  {
   "cell_type": "code",
   "execution_count": null,
   "metadata": {},
   "outputs": [],
   "source": [
    "def insertion_sort(arr):\n",
    "    \"\"\"The first element in the array is assumed to be sorted. Take the second element and store it separately in key\"\"\"\n",
    "    for i in range(1, len(arr)):\n",
    "        j = i\n",
    "        while j > 0 and arr[j-1] > arr[j] : # Ascending order\n",
    "        # while j > 0 and arr[j-1] < arr[j] : # Descending order\n",
    "            arr[j-1], arr[j] = arr[j], arr[j-1]\n",
    "            j = j-1  # Decrementing the index\n",
    "    return arr\n"
   ]
  },
  {
   "cell_type": "code",
   "execution_count": null,
   "metadata": {},
   "outputs": [],
   "source": [
    "arr = [2,6,5,1,3,4]\n",
    "insertion_sort(arr)"
   ]
  },
  {
   "cell_type": "markdown",
   "metadata": {},
   "source": [
    "**Time Complexity:** \n",
    "Insertion sort has a time complexity of O(n^2) in the average and worst cases, making it suitable for small datasets or partially sorted arrays.\n",
    "\n",
    "**Space Complexity:** \n",
    "It has a space complexity of O(1), as it sorts the array in-place without requiring additional data structures."
   ]
  }
 ],
 "metadata": {
  "kernelspec": {
   "display_name": "Python 3",
   "language": "python",
   "name": "python3"
  },
  "language_info": {
   "codemirror_mode": {
    "name": "ipython",
    "version": 3
   },
   "file_extension": ".py",
   "mimetype": "text/x-python",
   "name": "python",
   "nbconvert_exporter": "python",
   "pygments_lexer": "ipython3",
   "version": "3.9.0"
  }
 },
 "nbformat": 4,
 "nbformat_minor": 2
}
