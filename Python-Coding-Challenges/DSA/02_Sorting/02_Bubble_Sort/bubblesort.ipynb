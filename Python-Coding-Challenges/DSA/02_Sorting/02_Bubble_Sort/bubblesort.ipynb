{
 "cells": [
  {
   "cell_type": "markdown",
   "id": "9acc8936",
   "metadata": {},
   "source": [
    "Given an unsorted array of integers, sort it using the Bubble Sort algorithm.\n"
   ]
  },
  {
   "cell_type": "code",
   "execution_count": null,
   "id": "b1038ee9",
   "metadata": {},
   "outputs": [],
   "source": [
    "def bubble_sort(nums): # Bubble Sort\n",
    "    \"\"\"Sorts a list of numbers in ascending order using the bubble sort algorithm.\n",
    "    Args:\n",
    "        nums (list): A list of numbers to be sorted.    \n",
    "    Returns:\n",
    "        list: A new list containing the sorted numbers.\n",
    "    \"\"\"\n",
    "    n = len(nums)\n",
    "    for i in range(n-2,-1,-1): # Start from the second last element and go backwards\n",
    "        # Compare each element with the next one and swap if they are in the wrong order\n",
    "        for j in range(0,i+1):\n",
    "            if nums[j] > nums[j+1]: # Compare adjacent elements\n",
    "                # Swap if they are in the wrong order\n",
    "                nums[j], nums[j+1] = nums[j+1], nums[j]\n",
    "    return nums\n",
    "\n",
    "# visualize the sorting process \n",
    "# [5, 3, 8, 4, 2, 1] => [3, 5, 4, 2, 1, 8] # (5 and 3 are swapped)\n",
    "# [3, 5, 4, 2, 1, 8] => [3, 4, 5, 2, 1, 8] # (5 and 4 are swapped)\n",
    "# [3, 4, 2, 1, 5, 8] => [3, 2, 1, 4, 5, 8] # (4 and 2 are swapped)\n",
    "# [3, 2, 1, 4, 5, 8] => [2, 1, 3, 4, 5, 8] # (3 and 2 are swapped)\n",
    "# [2, 1, 3, 4, 5, 8] => [1, 2, 3, 4, 5, 8] # (2 and 1 are swapped)\n",
    "# [1, 2, 3, 4, 5, 8] => [1, 2, 3, 4, 5, 8] # (1 is already in the right position)\n",
    "\n",
    "nums = [5, 3, 8, 4, 2, 1]\n",
    "print(bubble_sort(nums))"
   ]
  },
  {
   "cell_type": "code",
   "execution_count": null,
   "id": "b0da19f6",
   "metadata": {},
   "outputs": [],
   "source": []
  }
 ],
 "metadata": {
  "kernelspec": {
   "display_name": "Python 3",
   "language": "python",
   "name": "python3"
  },
  "language_info": {
   "codemirror_mode": {
    "name": "ipython",
    "version": 3
   },
   "file_extension": ".py",
   "mimetype": "text/x-python",
   "name": "python",
   "nbconvert_exporter": "python",
   "pygments_lexer": "ipython3",
   "version": "3.9.0"
  }
 },
 "nbformat": 4,
 "nbformat_minor": 5
}
