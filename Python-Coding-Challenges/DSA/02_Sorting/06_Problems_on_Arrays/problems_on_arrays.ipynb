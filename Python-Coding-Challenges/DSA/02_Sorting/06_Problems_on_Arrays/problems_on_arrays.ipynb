{
 "cells": [
  {
   "cell_type": "markdown",
   "id": "23887c3a",
   "metadata": {},
   "source": []
  },
  {
   "cell_type": "code",
   "execution_count": null,
   "id": "55087256",
   "metadata": {},
   "outputs": [
    {
     "name": "stdout",
     "output_type": "stream",
     "text": [
      "89\n"
     ]
    }
   ],
   "source": [
    "def largest_elemnts(lst):\n",
    "    \"\"\"\n",
    "    This function takes a list of integers and returns the largest element in the list.\n",
    "    If the list is empty, it returns None.\n",
    "    \"\"\"\n",
    "    largest = lst[0]\n",
    "    if not lst:\n",
    "        return None\n",
    "    for i in range(len(lst)):\n",
    "        largest = max(largest, lst[i]) #find the largest element in the list\n",
    "    return largest\n",
    "\n",
    "print(largest_elemnts(lst=[25,65,1,89,22,65,44,8,0]))"
   ]
  },
  {
   "cell_type": "markdown",
   "id": "b9d22593",
   "metadata": {},
   "source": []
  },
  {
   "cell_type": "code",
   "execution_count": 4,
   "id": "ed5c33bd",
   "metadata": {},
   "outputs": [
    {
     "data": {
      "text/plain": [
       "10"
      ]
     },
     "execution_count": 4,
     "metadata": {},
     "output_type": "execute_result"
    }
   ],
   "source": [
    "def second_largest_element(nums):\n",
    "    largest = float(\"-inf\") \n",
    "    second = float(\"-inf\") \n",
    "    for i in range(len(nums)):\n",
    "        largest = max(largest, nums[i])\n",
    "    \n",
    "    for i in range(len(nums)):\n",
    "        if nums[i] > second and nums[i] != largest:\n",
    "            second = nums[i]\n",
    "    return second\n",
    "\n",
    "second_largest_element(nums=[15,10,1])"
   ]
  },
  {
   "cell_type": "code",
   "execution_count": null,
   "id": "add04122",
   "metadata": {},
   "outputs": [],
   "source": [
    "# Optimal solution\n",
    "\n",
    "def second_largest_element(nums):\n",
    "    largest = float(\"-inf\") \n",
    "    second = float(\"-inf\")\n",
    "    for i in range(0, len(nums)):\n",
    "        if nums[i] > largest:\n",
    "            second = largest\n",
    "            largest = nums[i]\n",
    "        elif nums[i] > second and nums[i] != largest:\n",
    "            second = nums[i]\n",
    "    return second\n",
    "\n",
    "print(second_largest_element(nums=[55,32,97,-55,45,32,88,21]))"
   ]
  }
 ],
 "metadata": {
  "kernelspec": {
   "display_name": "Python 3",
   "language": "python",
   "name": "python3"
  },
  "language_info": {
   "codemirror_mode": {
    "name": "ipython",
    "version": 3
   },
   "file_extension": ".py",
   "mimetype": "text/x-python",
   "name": "python",
   "nbconvert_exporter": "python",
   "pygments_lexer": "ipython3",
   "version": "3.9.0"
  }
 },
 "nbformat": 4,
 "nbformat_minor": 5
}
