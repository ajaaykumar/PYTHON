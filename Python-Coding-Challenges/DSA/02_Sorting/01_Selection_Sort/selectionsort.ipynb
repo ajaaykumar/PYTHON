{
 "cells": [
  {
   "cell_type": "markdown",
   "id": "a9b57a44",
   "metadata": {},
   "source": []
  },
  {
   "cell_type": "code",
   "execution_count": 3,
   "id": "f2a1bc07",
   "metadata": {},
   "outputs": [
    {
     "name": "stdout",
     "output_type": "stream",
     "text": [
      "[11, 12, 22, 25, 64]\n"
     ]
    }
   ],
   "source": [
    "# coding: utf-8\n",
    "# @Time    : 2025/04/09 17:00\n",
    "# @Author  : Your Name\n",
    "# @File    : selection_sort.py \n",
    "# @Description: Selection Sort Algorithm\n",
    "\n",
    "# selection sort is a simple sorting algorithm that divides the input list into two parts: a sorted part and an unsorted part. \n",
    "# It repeatedly selects the smallest (or largest) element from the unsorted part and moves it to the sorted part.\n",
    "# The algorithm maintains two subarrays in a given array:\n",
    "# 1) The subarray which is already sorted.\n",
    "# 2) Remaining subarray which is unsorted.\n",
    "# In each iteration of selection sort, the minimum element from the unsorted subarray is picked and moved to the sorted subarray.\n",
    "# This process continues until all elements are sorted.\n",
    "# Time Complexity: O(n^2) in all cases (best, average, worst)\n",
    "# Space Complexity: O(1) because it is an in-place sorting algorithm\n",
    "# It is not a stable sort, meaning that it may change the relative order of elements with equal keys.\n",
    "# It is not adaptive, meaning that it does not take advantage of existing order in the input data.\n",
    "# It is not a good choice for large datasets as it has a quadratic time complexity.\n",
    "# However, it is simple to implement and can be useful for small datasets or as part of more complex algorithms.\n",
    "\n",
    "# Example:\n",
    "def selection_sort(nums):\n",
    "    n = len(nums) # Get the length of the list\n",
    "    for i in range(n):\n",
    "        min_index = i # Assume the first element is the minimum\n",
    "        # Find the index of the minimum element in the unsorted part of the list\n",
    "        for j in range(i+1,n): # Start from the next element\n",
    "            # Compare the current element with the minimum element found so far\n",
    "            if nums[j] < nums[min_index]: # If the current element is smaller, update min_index\n",
    "                # Update min_index to the index of the new minimum element\n",
    "                min_index = j # Update min_index to the index of the new minimum element\n",
    "        # Swap the found minimum element with the first element of the unsorted part\n",
    "        nums[i],nums[min_index] = nums[min_index],nums[i]\n",
    "    return nums\n",
    "\n",
    "nums = [64, 25, 12, 22, 11]\n",
    "print(selection_sort(nums))"
   ]
  },
  {
   "cell_type": "code",
   "execution_count": 4,
   "id": "e75c0d45",
   "metadata": {},
   "outputs": [
    {
     "name": "stdout",
     "output_type": "stream",
     "text": [
      "[9, 7, 4, 3, 1]\n"
     ]
    }
   ],
   "source": [
    "# Example: Descending order\n",
    "# To sort in descending order, we can modify the comparison in the inner loop.\n",
    "def selection_sort(nums):\n",
    "    n = len(nums) # Get the length of the list\n",
    "    for i in range(n):\n",
    "        min_index = i # Assume the first element is the minimum\n",
    "        # Find the index of the minimum element in the unsorted part of the list\n",
    "        for j in range(i+1,n): # Start from the next element\n",
    "            # Compare the current element with the minimum element found so far\n",
    "            if nums[j] > nums[min_index]: # If the current element is smaller, update min_index\n",
    "                # Update min_index to the index of the new minimum element\n",
    "                min_index = j # Update min_index to the index of the new minimum element\n",
    "        # Swap the found minimum element with the first element of the unsorted part\n",
    "        nums[i],nums[min_index] = nums[min_index],nums[i]\n",
    "    return nums\n",
    "\n",
    "nums = [4, 1, 3, 9, 7]\n",
    "print(selection_sort(nums))"
   ]
  },
  {
   "cell_type": "code",
   "execution_count": null,
   "id": "b729d66f",
   "metadata": {},
   "outputs": [],
   "source": []
  }
 ],
 "metadata": {
  "kernelspec": {
   "display_name": "Python 3",
   "language": "python",
   "name": "python3"
  },
  "language_info": {
   "codemirror_mode": {
    "name": "ipython",
    "version": 3
   },
   "file_extension": ".py",
   "mimetype": "text/x-python",
   "name": "python",
   "nbconvert_exporter": "python",
   "pygments_lexer": "ipython3",
   "version": "3.9.0"
  }
 },
 "nbformat": 4,
 "nbformat_minor": 5
}
