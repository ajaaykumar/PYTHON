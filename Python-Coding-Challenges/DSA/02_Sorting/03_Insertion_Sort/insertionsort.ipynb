{
 "cells": [
  {
   "cell_type": "markdown",
   "id": "4a51f1d6",
   "metadata": {},
   "source": []
  },
  {
   "cell_type": "code",
   "execution_count": null,
   "id": "f2fe48b0",
   "metadata": {},
   "outputs": [
    {
     "name": "stdout",
     "output_type": "stream",
     "text": [
      "[1, 3, 4, 5, 6, 7, 8, 9, 10]\n"
     ]
    }
   ],
   "source": [
    "# coding: utf-8\n",
    "def insertion_sort(nums): \n",
    "    \"\"\"\n",
    "    Sorts a list of numbers using the insertion sort algorithm.\n",
    "    The algorithm works by dividing the list into a sorted and an unsorted part.\n",
    "    It iteratively takes an element from the unsorted part and finds its correct position in the sorted part.\n",
    "    The process is repeated until the entire list is sorted.\n",
    "    \"\"\"\n",
    "    # Time complexity: O(n^2) in the worst case, O(n) in the best case (when the list is already sorted)\n",
    "    n = len(nums)\n",
    "    for i in range(1,n): # Iterate from the second element to the last\n",
    "        # Store the current element to be inserted into the sorted part of the list\n",
    "        key = nums[i]\n",
    "        j = i - 1 # Start comparing with the last element of the sorted part\n",
    "        # Shift elements of the sorted part that are greater than key to one position ahead of their current position\n",
    "        while j>=0 and nums[j]>key: # Compare with the sorted part\n",
    "            # If the current element is greater than key, shift it to the right\n",
    "            nums[j+1] = nums[j] # Shift the element to the right\n",
    "            # Move to the previous element in the sorted part\n",
    "            j -= 1 \n",
    "        nums[j+1] = key\n",
    "    return nums\n",
    "\n",
    "print(insertion_sort(nums = [3,5,6,4,8,9,10,7,1]))"
   ]
  },
  {
   "cell_type": "code",
   "execution_count": null,
   "id": "7248ccd9",
   "metadata": {},
   "outputs": [],
   "source": []
  }
 ],
 "metadata": {
  "kernelspec": {
   "display_name": "Python 3",
   "language": "python",
   "name": "python3"
  },
  "language_info": {
   "codemirror_mode": {
    "name": "ipython",
    "version": 3
   },
   "file_extension": ".py",
   "mimetype": "text/x-python",
   "name": "python",
   "nbconvert_exporter": "python",
   "pygments_lexer": "ipython3",
   "version": "3.9.0"
  }
 },
 "nbformat": 4,
 "nbformat_minor": 5
}
