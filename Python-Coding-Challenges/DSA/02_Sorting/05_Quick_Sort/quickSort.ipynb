{
 "cells": [
  {
   "cell_type": "markdown",
   "id": "cb2ca00d",
   "metadata": {},
   "source": []
  },
  {
   "cell_type": "code",
   "execution_count": null,
   "id": "f5775eb1",
   "metadata": {},
   "outputs": [],
   "source": []
  },
  {
   "cell_type": "code",
   "execution_count": 1,
   "id": "0609abaa",
   "metadata": {},
   "outputs": [],
   "source": [
    "def partition(nums, low, high):\n",
    "    pivit = nums[low]\n",
    "    i , j = low, high\n",
    "    while i<j:\n",
    "        while nums[i] <= pivit and i <= high-1:\n",
    "            i += 1\n",
    "        while nums[j] >= pivit and j >= low +1:\n",
    "            j -= 1\n",
    "        if i<j:\n",
    "            nums[i], nums[j] = nums[j], nums[i]\n",
    "    nums[low], nums[j] = nums[j], nums[low]\n",
    "    return j\n",
    "\n",
    "def quick_sort(nums,low, high):\n",
    "    if low<high:\n",
    "        p_index = partition(nums,low, high)\n",
    "        quick_sort(nums,low, p_index-1)\n",
    "        quick_sort(nums,p_index+1,high)\n",
    "    return nums\n"
   ]
  },
  {
   "cell_type": "code",
   "execution_count": 2,
   "id": "575e0615",
   "metadata": {},
   "outputs": [
    {
     "name": "stdout",
     "output_type": "stream",
     "text": [
      "[1, 2, 3, 4, 6, 7, 8]\n"
     ]
    }
   ],
   "source": [
    "nums = [4,1,7,6,3,2,8]\n",
    "n = len(nums)\n",
    "# print(partition(nums,0,n-1))\n",
    "print(quick_sort(nums,0,n-1))"
   ]
  },
  {
   "cell_type": "code",
   "execution_count": null,
   "id": "b7440c48",
   "metadata": {},
   "outputs": [],
   "source": []
  },
  {
   "cell_type": "markdown",
   "id": "42d6fa45",
   "metadata": {},
   "source": []
  },
  {
   "cell_type": "code",
   "execution_count": 3,
   "id": "88609e0d",
   "metadata": {},
   "outputs": [],
   "source": [
    "def quick_sort(arr, low, high):\n",
    "    if low < high:\n",
    "        # Partition the array and get the pivot index\n",
    "        pi = partition(arr, low, high)\n",
    "\n",
    "        print(f\"After partitioning with pivot {arr[pi]}: {arr}\")\n",
    "\n",
    "        # Recursively sort elements before and after partition\n",
    "        quick_sort(arr, low, pi - 1)   # Left of pivot\n",
    "        quick_sort(arr, pi + 1, high)  # Right of pivot\n",
    "\n",
    "def partition(arr, low, high):\n",
    "    pivot = arr[high]  # Choosing last element as pivot\n",
    "    i = low - 1         # Pointer for smaller element\n",
    "\n",
    "    print(f\"\\nPartitioning: {arr[low:high+1]} with pivot = {pivot}\")\n",
    "\n",
    "    for j in range(low, high):\n",
    "        if arr[j] < pivot:\n",
    "            i += 1\n",
    "            # Swap if element is smaller than pivot\n",
    "            arr[i], arr[j] = arr[j], arr[i]\n",
    "            print(f\"Swapped {arr[i]} and {arr[j]} → {arr}\")\n",
    "    \n",
    "    # Place pivot in the correct position\n",
    "    arr[i + 1], arr[high] = arr[high], arr[i + 1]\n",
    "    print(f\"Placed pivot {pivot} at correct position → {arr}\")\n",
    "\n",
    "    return i + 1\n"
   ]
  },
  {
   "cell_type": "code",
   "execution_count": 4,
   "id": "9ecffe51",
   "metadata": {},
   "outputs": [
    {
     "name": "stdout",
     "output_type": "stream",
     "text": [
      "Original Array: [6, 3, 8, 5, 2]\n",
      "\n",
      "Partitioning: [6, 3, 8, 5, 2] with pivot = 2\n",
      "Placed pivot 2 at correct position → [2, 3, 8, 5, 6]\n",
      "After partitioning with pivot 2: [2, 3, 8, 5, 6]\n",
      "\n",
      "Partitioning: [3, 8, 5, 6] with pivot = 6\n",
      "Swapped 3 and 3 → [2, 3, 8, 5, 6]\n",
      "Swapped 5 and 8 → [2, 3, 5, 8, 6]\n",
      "Placed pivot 6 at correct position → [2, 3, 5, 6, 8]\n",
      "After partitioning with pivot 6: [2, 3, 5, 6, 8]\n",
      "\n",
      "Partitioning: [3, 5] with pivot = 5\n",
      "Swapped 3 and 3 → [2, 3, 5, 6, 8]\n",
      "Placed pivot 5 at correct position → [2, 3, 5, 6, 8]\n",
      "After partitioning with pivot 5: [2, 3, 5, 6, 8]\n",
      "\n",
      "Sorted Array:   [2, 3, 5, 6, 8]\n"
     ]
    }
   ],
   "source": [
    "arr = [6, 3, 8, 5, 2]\n",
    "print(f\"Original Array: {arr}\")\n",
    "quick_sort(arr, 0, len(arr) - 1)\n",
    "print(f\"\\nSorted Array:   {arr}\")"
   ]
  },
  {
   "cell_type": "code",
   "execution_count": null,
   "id": "e521968b",
   "metadata": {},
   "outputs": [],
   "source": []
  }
 ],
 "metadata": {
  "kernelspec": {
   "display_name": "Python 3",
   "language": "python",
   "name": "python3"
  },
  "language_info": {
   "codemirror_mode": {
    "name": "ipython",
    "version": 3
   },
   "file_extension": ".py",
   "mimetype": "text/x-python",
   "name": "python",
   "nbconvert_exporter": "python",
   "pygments_lexer": "ipython3",
   "version": "3.9.0"
  }
 },
 "nbformat": 4,
 "nbformat_minor": 5
}
