{
 "cells": [
  {
   "cell_type": "markdown",
   "metadata": {},
   "source": [
    "### Binary Search\n",
    "Binary Search is a searching algorithm for finding an element's position in a sorted array."
   ]
  },
  {
   "cell_type": "code",
   "execution_count": 54,
   "metadata": {},
   "outputs": [],
   "source": [
    "# In case of binary search make sure array is sorted\n",
    "# 2. Iteration Method\n",
    "\n",
    "def search(sorted_list,k):\n",
    "    low_point = 0\n",
    "    high_point = len(sorted_list)-1\n",
    "    \n",
    "    while low_point <= high_point:\n",
    "        mid = (low_point+high_point)//2\n",
    "        print(mid)\n",
    "        if k == sorted_list[mid]:\n",
    "            return mid, k\n",
    "        else:\n",
    "            if sorted_list[mid] < k:\n",
    "                low_point = mid+1\n",
    "            else:\n",
    "                high_point = mid+1\n",
    "    return False"
   ]
  },
  {
   "cell_type": "code",
   "execution_count": null,
   "metadata": {},
   "outputs": [],
   "source": [
    "sorted_list = [4,7,8,12,45,99]\n",
    "k = 7\n",
    "search(sorted_list,k)"
   ]
  },
  {
   "cell_type": "code",
   "execution_count": 51,
   "metadata": {},
   "outputs": [],
   "source": [
    "# 2. Recursive Method\n",
    "\n",
    "# Lowest and higest position\n",
    "# Middle Position\n",
    "def recursive_search(sorted_list,k, low_position, high_position):\n",
    "    mid = (low_position+high_position)//2\n",
    "    # print(f'mid: {mid}, highest: {high_position}')\n",
    "    if high_position >= low_position:\n",
    "        if k == sorted_list[mid]:\n",
    "            return mid, k\n",
    "        else: \n",
    "            if (k > sorted_list[mid]): # x is on the right side\n",
    "                return recursive_search(sorted_list,k,mid+1,high_position) # low_position = mid + 1\n",
    "            else:\n",
    "                return recursive_search(sorted_list,k,low_position,mid-1) \n",
    "                high_position = mid - 1  # x is on the left side\n",
    "    else:\n",
    "        return -1"
   ]
  },
  {
   "cell_type": "code",
   "execution_count": 53,
   "metadata": {},
   "outputs": [
    {
     "data": {
      "text/plain": [
       "(5, 99)"
      ]
     },
     "execution_count": 53,
     "metadata": {},
     "output_type": "execute_result"
    }
   ],
   "source": [
    "sorted_list = [4,7,8,12,45,99]\n",
    "low_position = 0\n",
    "high_position = len(sorted_list)-1\n",
    "k = 99\n",
    "recursive_search(sorted_list,k,low_position,high_position)"
   ]
  },
  {
   "cell_type": "code",
   "execution_count": null,
   "metadata": {},
   "outputs": [
    {
     "name": "stdout",
     "output_type": "stream",
     "text": [
      "2\n"
     ]
    }
   ],
   "source": []
  },
  {
   "cell_type": "code",
   "execution_count": 18,
   "metadata": {},
   "outputs": [
    {
     "name": "stdout",
     "output_type": "stream",
     "text": [
      "4\n"
     ]
    }
   ],
   "source": [
    "sorted_list = [4,7,8,12,45,99]\n",
    "mid = 0+len(sorted_list)-1\n",
    "print(9//2)"
   ]
  },
  {
   "cell_type": "code",
   "execution_count": null,
   "metadata": {},
   "outputs": [],
   "source": []
  }
 ],
 "metadata": {
  "kernelspec": {
   "display_name": "Python 3",
   "language": "python",
   "name": "python3"
  },
  "language_info": {
   "codemirror_mode": {
    "name": "ipython",
    "version": 3
   },
   "file_extension": ".py",
   "mimetype": "text/x-python",
   "name": "python",
   "nbconvert_exporter": "python",
   "pygments_lexer": "ipython3",
   "version": "3.9.0"
  }
 },
 "nbformat": 4,
 "nbformat_minor": 2
}
