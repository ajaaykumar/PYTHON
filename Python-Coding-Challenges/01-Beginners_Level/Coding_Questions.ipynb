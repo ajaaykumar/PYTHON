{
 "cells": [
  {
   "cell_type": "markdown",
   "metadata": {},
   "source": [
    "Question 1: Write a Python program to check if a string is a palindrome.\n",
    "\n",
    "A palindrome is a word, phrase, number, or sequence of characters that reads the same forward and backward (ignoring spaces, punctuation, and capitalization). Palindromes are often used as puzzles or for fun wordplay."
   ]
  },
  {
   "cell_type": "code",
   "execution_count": 3,
   "metadata": {},
   "outputs": [
    {
     "data": {
      "text/plain": [
       "True"
      ]
     },
     "execution_count": 3,
     "metadata": {},
     "output_type": "execute_result"
    }
   ],
   "source": [
    "# 1st Approach\n",
    "def main(arg1):\n",
    "    for i in range(0,int(len(arg1)/2)):\n",
    "        if arg1[i] == arg1[len(arg1)-i-1]:\n",
    "            return True\n",
    "        else:\n",
    "            return False\n",
    "s = 'ccaack'\n",
    "main(s)"
   ]
  },
  {
   "cell_type": "code",
   "execution_count": 2,
   "metadata": {},
   "outputs": [
    {
     "name": "stdout",
     "output_type": "stream",
     "text": [
      "5\n"
     ]
    }
   ],
   "source": []
  },
  {
   "cell_type": "code",
   "execution_count": 14,
   "metadata": {},
   "outputs": [
    {
     "name": "stdout",
     "output_type": "stream",
     "text": [
      "True False\n"
     ]
    }
   ],
   "source": [
    "# 2nd Approach\n",
    "def palindrom(value:str):\n",
    "    n = len(value)\n",
    "    r = n-1\n",
    "    for i in range(len(value)):\n",
    "        if value[i] == value[r]:\n",
    "            r -= 1\n",
    "        else:\n",
    "            return False\n",
    "    return True\n",
    "\n",
    "val1 = palindrom(\"MADAM\")\n",
    "val2 = palindrom(\"MADAMS\")\n",
    "print(val1, val2)\n"
   ]
  },
  {
   "cell_type": "markdown",
   "metadata": {},
   "source": [
    "Question 2: Write a Python program to find the factorial of a number."
   ]
  },
  {
   "cell_type": "code",
   "execution_count": 1,
   "metadata": {},
   "outputs": [
    {
     "name": "stdout",
     "output_type": "stream",
     "text": [
      "5040\n"
     ]
    }
   ],
   "source": [
    "def factorialOfNumber(value:int):\n",
    "    if value < 2 and isinstance(value, int):\n",
    "        return 1\n",
    "    else:\n",
    "        return value * factorialOfNumber(value-1)\n",
    "\n",
    "print(factorialOfNumber(7))"
   ]
  },
  {
   "cell_type": "code",
   "execution_count": null,
   "metadata": {},
   "outputs": [],
   "source": [
    "n = 7\n",
    "factorial = 1\n",
    "\n",
    "for i in range(1,n+1):\n",
    "    factorial = factorial * i\n",
    "\n",
    "print(factorial)"
   ]
  },
  {
   "cell_type": "markdown",
   "metadata": {},
   "source": [
    "Question 3: Write a Python program to find the largest element in a list."
   ]
  },
  {
   "cell_type": "code",
   "execution_count": 2,
   "metadata": {},
   "outputs": [
    {
     "name": "stdout",
     "output_type": "stream",
     "text": [
      "largest: 11\n"
     ]
    }
   ],
   "source": [
    "# This Functions represent the behavior of Max() function in python\n",
    "def largestElemetInList(lst:list):\n",
    "    # print(max(lst))\n",
    "    largest = lst[0]\n",
    "    for i in lst:\n",
    "        if i > largest:\n",
    "            largest = i\n",
    "    print(f\"largest: {largest}\")\n",
    "\n",
    "largestElemetInList([1,2,4,5,10,9,11])"
   ]
  },
  {
   "cell_type": "markdown",
   "metadata": {},
   "source": [
    "Question 4: Write a Python program to reverse a string."
   ]
  },
  {
   "cell_type": "code",
   "execution_count": 13,
   "metadata": {},
   "outputs": [
    {
     "name": "stdout",
     "output_type": "stream",
     "text": [
      "EDCBA\n"
     ]
    }
   ],
   "source": [
    "String = \"ABCDE\"\n",
    "# String[start:stop:step]\n",
    "# print(String[::-1])\n",
    "\n",
    "reverse_string = \"\"\n",
    "for i in range(len(String)-1,-1,-1):\n",
    "    reverse_string += String[i]\n",
    "\n",
    "print(reverse_string)\n"
   ]
  },
  {
   "cell_type": "markdown",
   "metadata": {},
   "source": [
    "Question 5: Write a Python program to count the frequency of each element in a list.\n",
    "\n",
    "https://stackoverflow.com/questions/9001509/how-do-i-sort-a-dictionary-by-key"
   ]
  },
  {
   "cell_type": "code",
   "execution_count": 3,
   "metadata": {},
   "outputs": [
    {
     "name": "stdout",
     "output_type": "stream",
     "text": [
      "[4, 4, 2, 2, 1]\n"
     ]
    }
   ],
   "source": [
    "def sortUnorderedList(unordered_list:list):\n",
    "    freq_of_unordereded_list = {}\n",
    "    for value in unordered_list:\n",
    "        if value in freq_of_unordereded_list:\n",
    "            freq_of_unordereded_list[value] += 1\n",
    "        else:\n",
    "            freq_of_unordereded_list[value] = 1\n",
    "\n",
    "    resp = [i for i in freq_of_unordereded_list.values()]\n",
    "    resp.sort(reverse=True) \n",
    "    return resp\n",
    "\n",
    "unordered_list = [5, 1, 2, 2, 4, 3, 1, 2, 3, 1, 1, 5, 2]\n",
    "print(sortUnorderedList(unordered_list)) # `a` has 4 instances of `1`, 4 of `2`, 2 of `3`, 1 of `4,` 2 of `5`   b = [4, 4, 2, 1, 2] # expected output\n",
    " "
   ]
  },
  {
   "cell_type": "markdown",
   "metadata": {},
   "source": [
    "Question 6: Write a Python program to check if a number is prime."
   ]
  },
  {
   "cell_type": "code",
   "execution_count": null,
   "metadata": {},
   "outputs": [],
   "source": [
    "# a whole number greater than 1 that cannot be exactly divided by any whole number other than itself and 1 (e.g. 2, 3, 5, 7, 11).\n",
    "\n",
    "def isprime(num:int):\n",
    "    if num > 1:\n",
    "        pass\n",
    "    else:\n",
    "        return 'Not a prime Number'"
   ]
  },
  {
   "cell_type": "markdown",
   "metadata": {},
   "source": [
    "Question 7: Write a Python program to find the common elements between two lists."
   ]
  },
  {
   "cell_type": "code",
   "execution_count": 13,
   "metadata": {},
   "outputs": [
    {
     "name": "stdout",
     "output_type": "stream",
     "text": [
      "[1, 2, 3, 4, 5, 6]\n",
      "[3, 5, 7, 9]\n",
      "[3, 5]\n",
      "['this', 'this', 'n', 'that']\n",
      "['this', 'not', 'that', 'that']\n",
      "['this', 'that', 'that']\n"
     ]
    }
   ],
   "source": [
    "def commonElementsInLst(sampleList1,sampleList2):\n",
    "    print(sampleList1)\n",
    "    print(sampleList2)\n",
    "    # return list(set(sampleList1) & set(sampleList2))\n",
    "    # return [i for i in sampleList1 if i in sampleList2]\n",
    "    return list(filter(lambda x: x in sampleList1, sampleList2))\n",
    "\n",
    "\n",
    "list1 = [1,2,3,4,5,6]\n",
    "list2 = [3,5,7,9]\n",
    "print(commonElementsInLst(list1,list2))\n",
    "\n",
    "strList1 = ['this','this','n','that']\n",
    "strList2 = ['this','not','that','that']\n",
    "print(commonElementsInLst(strList1,strList2))\n"
   ]
  },
  {
   "cell_type": "markdown",
   "metadata": {},
   "source": [
    "Question 8: Write a Python program to sort a list of elements using the bubble sort algorithm."
   ]
  },
  {
   "cell_type": "code",
   "execution_count": null,
   "metadata": {},
   "outputs": [],
   "source": []
  },
  {
   "cell_type": "markdown",
   "metadata": {},
   "source": [
    "Question 9: Write a Python program to find the second largest number in a list."
   ]
  },
  {
   "cell_type": "code",
   "execution_count": 17,
   "metadata": {},
   "outputs": [],
   "source": [
    "def secondLargestNumer(numList:[int]):\n",
    "    largest_num = 0\n",
    "    second_largest = 0\n",
    "    for i in numList:\n",
    "        if i > largest_num:\n",
    "            second_largest = largest_num\n",
    "            largest_num = i\n",
    "        elif i > second_largest:\n",
    "            second_largest = i\n",
    "    return f\"second largest number: {second_largest}\"\n",
    "\n",
    "print(secondLargestNumer([100,564,101,201,10,11,554]))"
   ]
  },
  {
   "cell_type": "markdown",
   "metadata": {},
   "source": [
    "Question 10: Write a python program to find the Kth Largest Element in an Array "
   ]
  },
  {
   "cell_type": "code",
   "execution_count": null,
   "metadata": {},
   "outputs": [],
   "source": []
  },
  {
   "cell_type": "markdown",
   "metadata": {},
   "source": [
    "Question 11: Write a Python program to remove duplicates from a list."
   ]
  },
  {
   "cell_type": "code",
   "execution_count": 3,
   "metadata": {},
   "outputs": [
    {
     "name": "stdout",
     "output_type": "stream",
     "text": [
      "[1, 2, 3, 4, 5, 6, 7, 8]\n"
     ]
    }
   ],
   "source": [
    "def removeDuplicates(lstData):\n",
    "    nonDuplicateList = []\n",
    "    for i in lstData:\n",
    "        if i not in nonDuplicateList:\n",
    "            nonDuplicateList.append(i)\n",
    "\n",
    "    return nonDuplicateList\n",
    "\n",
    "\n",
    "duplicateList = [1,2,3,4,5,6,6,7,8,5]\n",
    "print(removeDuplicates(duplicateList))\n"
   ]
  },
  {
   "cell_type": "markdown",
   "metadata": {},
   "source": [
    "Question 12: Write a Python function to group anagrams from a list of strings. \n",
    "Two strings are anagrams if they can be rearranged to form each other. \n",
    "The function should return a list of lists, where each inner list contains strings that are anagrams of each other."
   ]
  },
  {
   "cell_type": "code",
   "execution_count": 1,
   "metadata": {},
   "outputs": [],
   "source": [
    "from collections import defaultdict\n",
    "def group_anagrams(strs: list) -> list:\n",
    "    anagrams_dict = defaultdict(list)\n",
    "    for s in strs:\n",
    "        count = [0] * 26\n",
    "        for c in s:\n",
    "            count[ord(c) - ord('a')] += 1\n",
    "    \n",
    "        key = tuple(count)\n",
    "        anagrams_dict[key].append(s)\n",
    "        \n",
    "    return anagrams_dict.values()"
   ]
  },
  {
   "cell_type": "code",
   "execution_count": null,
   "metadata": {},
   "outputs": [],
   "source": [
    "print(group_anagrams([\"eat\", \"tea\", \"tan\", \"ate\", \"nat\", \"bat\"]))\n",
    "# Output: [['eat', 'tea', 'ate'], ['tan', 'nat'], ['bat']]\n",
    "\n",
    "# print(group_anagrams([\"\"]))\n",
    "# # Output: [['']]\n",
    "\n",
    "# print(group_anagrams([\"a\"]))\n",
    "# Output: [['a']]"
   ]
  },
  {
   "cell_type": "markdown",
   "metadata": {},
   "source": [
    "Question 13: Split the Array\n",
    "\n",
    "You are given an integer array nums of even length. You have to split the array into two parts nums1 and nums2 such that"
   ]
  },
  {
   "cell_type": "code",
   "execution_count": 36,
   "metadata": {},
   "outputs": [],
   "source": [
    "def isPossibleToSplit(nums):\n",
    "    lst_index = {}\n",
    "    for index, value in enumerate(nums):\n",
    "        if value in lst_index:\n",
    "            lst_index[value] += 1\n",
    "        else:\n",
    "            lst_index[value] = 1\n",
    "    \n",
    "    print(lst_index)\n",
    "    \n",
    "    for count in lst_index.values():\n",
    "        if count > 2:\n",
    "            return False\n",
    "    return True"
   ]
  },
  {
   "cell_type": "code",
   "execution_count": 37,
   "metadata": {},
   "outputs": [
    {
     "name": "stdout",
     "output_type": "stream",
     "text": [
      "{1: 2, 2: 2, 3: 1, 4: 1}\n",
      "True\n"
     ]
    }
   ],
   "source": [
    "nums = [1,1,2,2,3,4]\n",
    "print(isPossibleToSplit(nums))"
   ]
  },
  {
   "cell_type": "markdown",
   "metadata": {},
   "source": [
    "Question 14: Given an array of integers in ascending order, return index of the two numbers such that they add up to a specific key provided.\n",
    "\n",
    "Example:\n",
    "Take the array [1,2,3,4] and “key” is 7."
   ]
  },
  {
   "cell_type": "code",
   "execution_count": 14,
   "metadata": {},
   "outputs": [
    {
     "name": "stdout",
     "output_type": "stream",
     "text": [
      "[2, 3]\n"
     ]
    }
   ],
   "source": [
    "def twoSum(nums, target):\n",
    "    indexedValues = {}\n",
    "    for i,value in enumerate(nums):\n",
    "        diff = target - value\n",
    "        if diff in indexedValues:\n",
    "            return [indexedValues[diff], i]\n",
    "        else:\n",
    "            indexedValues[value] = i\n",
    "\n",
    "print(twoSum([1,2,3,4],7))"
   ]
  },
  {
   "cell_type": "markdown",
   "metadata": {},
   "source": [
    "Question 15: Write a program to find the first non-repeated character in a string."
   ]
  },
  {
   "cell_type": "code",
   "execution_count": 26,
   "metadata": {},
   "outputs": [],
   "source": [
    "def findFirstNonRepeatingCharacter(characters):\n",
    "    char_count = {}\n",
    "\n",
    "    for i in characters:\n",
    "        if i not in char_count:\n",
    "            char_count[i] = 1\n",
    "        else:\n",
    "            char_count[i] += 1 \n",
    "\n",
    "    for key, value in char_count.items():\n",
    "        if value == 1:\n",
    "            return key\n",
    "        else:\n",
    "            return 'Null'"
   ]
  },
  {
   "cell_type": "code",
   "execution_count": 27,
   "metadata": {},
   "outputs": [
    {
     "name": "stdout",
     "output_type": "stream",
     "text": [
      "a\n"
     ]
    }
   ],
   "source": [
    "# print(findFirstNonRepeatingCharacter('aabccdeff')) # should return 'b'\n",
    "# print(findFirstNonRepeatingCharacter('aabbcc')) # should return null\n",
    "print(findFirstNonRepeatingCharacter('abcdef')) # should return 'a'"
   ]
  },
  {
   "cell_type": "markdown",
   "metadata": {},
   "source": [
    "Question 16: Write a program to check if two strings are anagrams of each other."
   ]
  },
  {
   "cell_type": "code",
   "execution_count": null,
   "metadata": {},
   "outputs": [],
   "source": []
  },
  {
   "cell_type": "markdown",
   "metadata": {},
   "source": [
    "Question 17: Write a program to find the longest substring without repeating characters."
   ]
  },
  {
   "cell_type": "code",
   "execution_count": null,
   "metadata": {},
   "outputs": [],
   "source": []
  },
  {
   "cell_type": "markdown",
   "metadata": {},
   "source": [
    "Question 18: Write a program to find the longest common prefix among a set of strings."
   ]
  },
  {
   "cell_type": "code",
   "execution_count": null,
   "metadata": {},
   "outputs": [],
   "source": []
  },
  {
   "cell_type": "markdown",
   "metadata": {},
   "source": [
    "Question 19: Write a program to remove a specific character from a string."
   ]
  },
  {
   "cell_type": "code",
   "execution_count": null,
   "metadata": {},
   "outputs": [],
   "source": []
  },
  {
   "cell_type": "markdown",
   "metadata": {},
   "source": [
    "Question 20: Write a program to implement the Rabin-Karp algorithm for string matching."
   ]
  },
  {
   "cell_type": "code",
   "execution_count": null,
   "metadata": {},
   "outputs": [],
   "source": []
  },
  {
   "cell_type": "markdown",
   "metadata": {},
   "source": [
    "Question 21: Write a program to convert a string to its equivalent integer."
   ]
  },
  {
   "cell_type": "code",
   "execution_count": null,
   "metadata": {},
   "outputs": [],
   "source": []
  },
  {
   "cell_type": "markdown",
   "metadata": {},
   "source": [
    "\n",
    "Question 22: Write a program to replace a specific word in a string with another word."
   ]
  },
  {
   "cell_type": "code",
   "execution_count": null,
   "metadata": {},
   "outputs": [],
   "source": []
  },
  {
   "cell_type": "markdown",
   "metadata": {},
   "source": [
    "Question 23: Write a python code to get it sorted in the ascending order without using pre-defined functions? \n",
    "\n",
    "list1 = [4,7,8,1,3,2,7,7,9]"
   ]
  },
  {
   "cell_type": "code",
   "execution_count": null,
   "metadata": {},
   "outputs": [],
   "source": []
  },
  {
   "cell_type": "markdown",
   "metadata": {},
   "source": [
    "Question 24: Write a Python code to determine if two strings are isomorphic.\n",
    "To be isomorphic, each character in the first string must uniquely map to a character in the second string, and vice versa.\n",
    "\n",
    "\n",
    "Example:\n",
    "\n",
    "\n",
    "string1 = 'egg'\n",
    "\n",
    "\n",
    "string2 = 'add'\n",
    "\n",
    "\n",
    "Output: Isomorphic strings"
   ]
  },
  {
   "cell_type": "code",
   "execution_count": null,
   "metadata": {},
   "outputs": [],
   "source": []
  },
  {
   "cell_type": "markdown",
   "metadata": {},
   "source": [
    "Question 25: How to rank values in descending order in a Python dictionary"
   ]
  },
  {
   "cell_type": "code",
   "execution_count": 5,
   "metadata": {},
   "outputs": [
    {
     "name": "stdout",
     "output_type": "stream",
     "text": [
      "[('c', 15), ('a', 10), ('b', 5)]\n"
     ]
    }
   ],
   "source": [
    "my_dict = {'a': 10, 'b': 5, 'c': 15}\n",
    "sorted_dict = sorted(my_dict.items(),key=lambda x:x[1], reverse=True) # Also sorting dictionary by values\n",
    "print(sorted_dict)"
   ]
  },
  {
   "cell_type": "markdown",
   "metadata": {},
   "source": [
    "Ouestion 26: How to Sort a Dictionary by Key in Python"
   ]
  },
  {
   "cell_type": "code",
   "execution_count": 7,
   "metadata": {},
   "outputs": [
    {
     "name": "stdout",
     "output_type": "stream",
     "text": [
      "[('c', 15), ('b', 5), ('a', 10)]\n"
     ]
    }
   ],
   "source": [
    "sorted_dict_by_keys = sorted(my_dict.items(), reverse=True)\n",
    "print(sorted_dict_by_keys)"
   ]
  },
  {
   "cell_type": "code",
   "execution_count": 9,
   "metadata": {},
   "outputs": [],
   "source": [
    "# Q2: How can I sort a dictionary by values if it contains nested dictionaries?\n",
    "# Q3: Can I sort a dictionary by values in-place without creating a new dictionary?\n",
    "# Q4: What is the time complexity of sorting a dictionary by values in Python?\n",
    "# Q5: Will sorting a dictionary by values change the original dictionary?"
   ]
  },
  {
   "cell_type": "code",
   "execution_count": 10,
   "metadata": {},
   "outputs": [
    {
     "name": "stdout",
     "output_type": "stream",
     "text": [
      "234\n",
      "32\n",
      "33\n",
      "334\n",
      "61\n"
     ]
    }
   ],
   "source": [
    "def find_by_key(data,target):\n",
    "    for key, value in data.items():\n",
    "        if isinstance(value, dict):\n",
    "            yield from find_by_key(value, target)\n",
    "        elif key == target:\n",
    "            yield value\n",
    "\n",
    "\n",
    "def main():\n",
    "    menu = {\n",
    "  \"PLU\":\"234\",\n",
    "  \"Salad\":{\n",
    "    \"salad\":{\n",
    "      \"ceaser\":{\n",
    "        \"PLU\":\"32\"\n",
    "      },\n",
    "      \"italian\":{\n",
    "        \"PLU\":\"33\"\n",
    "      }\n",
    "    }\n",
    "  },\n",
    "  \"Dessert\":{\n",
    "    \"cookie\":{\n",
    "      \"PLU\":\"334\",\n",
    "      \"NAME\":\"cookie \"\n",
    "    }\n",
    "  },\n",
    "  \"Appetizer\":{\n",
    "    \"extra sauce\":{\n",
    "      \"PLU\":\"61\",\n",
    "      \"NAME\":\"extra sauce\"\n",
    "    }\n",
    "  }\n",
    "}\n",
    "    for x in find_by_key(menu, \"PLU\"):\n",
    "        print(x)\n",
    "\n",
    "\n",
    "if __name__ == '__main__':\n",
    "    main()"
   ]
  },
  {
   "cell_type": "code",
   "execution_count": 3,
   "metadata": {},
   "outputs": [
    {
     "data": {
      "text/plain": [
       "'BANC'"
      ]
     },
     "execution_count": 3,
     "metadata": {},
     "output_type": "execute_result"
    }
   ],
   "source": [
    "from collections import defaultdict\n",
    "\n",
    "def minWindow(s: str, t: str) -> str:\n",
    "    if not s or not t:\n",
    "        return \"\"\n",
    "    \n",
    "    # Dictionary to keep the count of all characters in t\n",
    "    t_counts = defaultdict(int)\n",
    "    for char in t:\n",
    "        t_counts[char] += 1\n",
    "    \n",
    "    required = len(t_counts)  # Number of unique characters in t\n",
    "    formed = 0                # Number of unique characters formed in the current window\n",
    "    \n",
    "    window_counts = defaultdict(int)  # Count of characters in the current window\n",
    "    ans = (float('inf'), 0, 0)        # Tuple to store the result (length, left, right)\n",
    "    \n",
    "    left, right = 0, 0\n",
    "    while right < len(s):\n",
    "        char = s[right]\n",
    "        if char in t_counts:\n",
    "            window_counts[char] += 1\n",
    "            # Check if the current character's count matches the required count\n",
    "            if window_counts[char] == t_counts[char]:\n",
    "                formed += 1\n",
    "        \n",
    "        # Try to contract the window as much as possible until it ceases to be 'valid'\n",
    "        while left <= right and formed == required:\n",
    "            current_window_length = right - left + 1\n",
    "            # Update the result if the current window is smaller\n",
    "            if current_window_length < ans[0]:\n",
    "                ans = (current_window_length, left, right)\n",
    "            \n",
    "            # Move the left pointer to try for a smaller window\n",
    "            left_char = s[left]\n",
    "            if left_char in t_counts:\n",
    "                # If removing this character makes the window invalid, decrement formed\n",
    "                if window_counts[left_char] == t_counts[left_char]:\n",
    "                    formed -= 1\n",
    "                window_counts[left_char] -= 1\n",
    "            left += 1\n",
    "        \n",
    "        # Expand the window by moving the right pointer\n",
    "        right += 1\n",
    "    \n",
    "    return s[ans[1]: ans[2] + 1] if ans[0] != float('inf') else \"\"\n",
    "\n",
    "minWindow(s=\"ADOBECODEBANC\", t=\"ABC\")"
   ]
  },
  {
   "cell_type": "code",
   "execution_count": null,
   "metadata": {},
   "outputs": [],
   "source": []
  }
 ],
 "metadata": {
  "kernelspec": {
   "display_name": "Python 3",
   "language": "python",
   "name": "python3"
  },
  "language_info": {
   "codemirror_mode": {
    "name": "ipython",
    "version": 3
   },
   "file_extension": ".py",
   "mimetype": "text/x-python",
   "name": "python",
   "nbconvert_exporter": "python",
   "pygments_lexer": "ipython3",
   "version": "3.9.0"
  }
 },
 "nbformat": 4,
 "nbformat_minor": 2
}
