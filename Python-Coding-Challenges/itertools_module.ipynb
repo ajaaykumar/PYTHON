{
 "cells": [
  {
   "cell_type": "code",
   "execution_count": 1,
   "metadata": {},
   "outputs": [],
   "source": [
    "import itertools"
   ]
  },
  {
   "cell_type": "code",
   "execution_count": 3,
   "metadata": {},
   "outputs": [
    {
     "name": "stdout",
     "output_type": "stream",
     "text": [
      "[1, 2, 3, 4, 5, 6, 7, 8, 9]\n"
     ]
    }
   ],
   "source": [
    "my_list_1 = [1, 2, 3]\n",
    "my_list_2 = [4, 5, 6]\n",
    "my_list_3 = [7, 8, 9]\n",
    "chained_list = list(itertools.chain(my_list_1,my_list_2,my_list_3))\n",
    "print(chained_list)"
   ]
  },
  {
   "cell_type": "code",
   "execution_count": 4,
   "metadata": {},
   "outputs": [
    {
     "name": "stdout",
     "output_type": "stream",
     "text": [
      "[3, 4, 5, 6]\n"
     ]
    }
   ],
   "source": [
    "from itertools import islice\n",
    "my_list = [1, 2, 3, 4, 5, 6, 7, 8, 9, 10]\n",
    "# Slice the list to get elements from index 2 to 6\n",
    "slice_lst = list(islice(my_list,2,6))\n",
    "print(slice_lst)"
   ]
  },
  {
   "cell_type": "code",
   "execution_count": 7,
   "metadata": {},
   "outputs": [
    {
     "name": "stdout",
     "output_type": "stream",
     "text": [
      "[(1, 'a', 'xyz'), (2, 'b', 'yzx'), (3, None, 'yyuus')]\n"
     ]
    }
   ],
   "source": [
    "from itertools import zip_longest\n",
    "my_list_1 = [1, 2, 3]\n",
    "my_list_2 = ['a', 'b']\n",
    "my_list_3 = ['xyz', 'yzx','yyuus']\n",
    "# Zip the lists together, filling missing values with None\n",
    "# zip_longest(*iterables, fillvalue=None):\n",
    "\n",
    "zipped_lst = list(zip_longest(my_list_1, my_list_2, my_list_3))\n",
    "print(zipped_lst)"
   ]
  },
  {
   "cell_type": "code",
   "execution_count": 8,
   "metadata": {},
   "outputs": [
    {
     "name": "stdout",
     "output_type": "stream",
     "text": [
      "[(1, 2, 3), (1, 2, 4), (1, 3, 4), (2, 3, 4)]\n"
     ]
    }
   ],
   "source": [
    "from itertools import combinations\n",
    "my_list = [1, 2, 3, 4]\n",
    "# Generate all combinations of length 2 from the list\n",
    "\n",
    "combination_lst = list(combinations(my_list,3))\n",
    "print(combination_lst)\n"
   ]
  },
  {
   "cell_type": "code",
   "execution_count": null,
   "metadata": {},
   "outputs": [],
   "source": [
    "# https://www.cybrosys.com/blog/an-overview-of-itertools-in-python-and-its-functions-and-classes"
   ]
  }
 ],
 "metadata": {
  "kernelspec": {
   "display_name": "Python 3",
   "language": "python",
   "name": "python3"
  },
  "language_info": {
   "codemirror_mode": {
    "name": "ipython",
    "version": 3
   },
   "file_extension": ".py",
   "mimetype": "text/x-python",
   "name": "python",
   "nbconvert_exporter": "python",
   "pygments_lexer": "ipython3",
   "version": "3.10.13"
  }
 },
 "nbformat": 4,
 "nbformat_minor": 2
}
