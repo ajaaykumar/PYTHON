{
 "cells": [
  {
   "cell_type": "markdown",
   "metadata": {},
   "source": [
    "Question 1: Write a Python program to check if a string is a palindrome."
   ]
  },
  {
   "cell_type": "code",
   "execution_count": null,
   "metadata": {},
   "outputs": [],
   "source": [
    "def main(arg1):\n",
    "    for i in range(0,int(len(arg1)/2)):\n",
    "        if arg1[i] == arg1[len(arg1)-i-1]:\n",
    "            print(\"True\")\n",
    "s = 'ccaack'\n",
    "main(s)"
   ]
  },
  {
   "cell_type": "code",
   "execution_count": null,
   "metadata": {},
   "outputs": [],
   "source": [
    "def palindrom(value:str):\n",
    "    n = len(value)\n",
    "    l = 0\n",
    "    r = n-1\n",
    "    for i in range(len(value)):\n",
    "        if value[i] == value[r]:\n",
    "            l += 1\n",
    "            r -= 1\n",
    "        else:\n",
    "            return False\n",
    "    return True\n",
    "\n",
    "\n",
    "val1 = palindrom(\"MADAM\")\n",
    "val2 = palindrom(\"MADAMS\")\n",
    "print(val1, val2)\n"
   ]
  },
  {
   "cell_type": "markdown",
   "metadata": {},
   "source": [
    "Question 2: Write a Python program to find the factorial of a number."
   ]
  },
  {
   "cell_type": "code",
   "execution_count": null,
   "metadata": {},
   "outputs": [],
   "source": [
    "def factorialOfNumber(value:int):\n",
    "    if value < 2 and isinstance(value, int):\n",
    "        return 1\n",
    "    else:\n",
    "        return value * factorialOfNumber(value-1)\n",
    "\n",
    "print(factorialOfNumber(7))"
   ]
  },
  {
   "cell_type": "code",
   "execution_count": null,
   "metadata": {},
   "outputs": [],
   "source": [
    "n = 7\n",
    "factorial = 1\n",
    "\n",
    "for i in range(1,n+1):\n",
    "    factorial = factorial * i\n",
    "\n",
    "print(factorial)"
   ]
  },
  {
   "cell_type": "markdown",
   "metadata": {},
   "source": [
    "Question 3: Write a Python program to find the largest element in a list."
   ]
  },
  {
   "cell_type": "code",
   "execution_count": 13,
   "metadata": {},
   "outputs": [
    {
     "name": "stdout",
     "output_type": "stream",
     "text": [
      "largest: 11\n"
     ]
    }
   ],
   "source": [
    "# This Functions represent the behavior of Max() function in python\n",
    "def largestElemetInList(lst:list):\n",
    "    # print(max(lst))\n",
    "    largest = lst[0]\n",
    "    for i in lst:\n",
    "        if i > largest:\n",
    "            largest = i\n",
    "    print(f\"largest: {largest}\")\n",
    "\n",
    "\n",
    "largestElemetInList([1,2,4,5,10,9,11])"
   ]
  },
  {
   "cell_type": "markdown",
   "metadata": {},
   "source": [
    "Question 4: Write a Python program to reverse a string."
   ]
  },
  {
   "cell_type": "code",
   "execution_count": null,
   "metadata": {},
   "outputs": [],
   "source": []
  },
  {
   "cell_type": "markdown",
   "metadata": {},
   "source": [
    "Question 5: Write a Python program to count the frequency of each element in a list."
   ]
  },
  {
   "cell_type": "code",
   "execution_count": null,
   "metadata": {},
   "outputs": [],
   "source": []
  },
  {
   "cell_type": "markdown",
   "metadata": {},
   "source": [
    "Question 6: Write a Python program to check if a number is prime."
   ]
  },
  {
   "cell_type": "code",
   "execution_count": null,
   "metadata": {},
   "outputs": [],
   "source": []
  },
  {
   "cell_type": "markdown",
   "metadata": {},
   "source": [
    "Question 7: Write a Python program to find the common elements between two lists."
   ]
  },
  {
   "cell_type": "code",
   "execution_count": null,
   "metadata": {},
   "outputs": [],
   "source": []
  },
  {
   "cell_type": "markdown",
   "metadata": {},
   "source": [
    "Question 8: Write a Python program to sort a list of elements using the bubble sort algorithm."
   ]
  },
  {
   "cell_type": "code",
   "execution_count": null,
   "metadata": {},
   "outputs": [],
   "source": []
  },
  {
   "cell_type": "markdown",
   "metadata": {},
   "source": [
    "Question 9: Write a Python program to find the second largest number in a list."
   ]
  },
  {
   "cell_type": "code",
   "execution_count": null,
   "metadata": {},
   "outputs": [],
   "source": []
  },
  {
   "cell_type": "markdown",
   "metadata": {},
   "source": [
    "Question 10: Write a Python program to remove duplicates from a list."
   ]
  },
  {
   "cell_type": "code",
   "execution_count": null,
   "metadata": {},
   "outputs": [],
   "source": []
  },
  {
   "cell_type": "markdown",
   "metadata": {},
   "source": [
    "Question 11: Write a Python function to group anagrams from a list of strings. \n",
    "Two strings are anagrams if they can be rearranged to form each other. \n",
    "The function should return a list of lists, where each inner list contains strings that are anagrams of each other."
   ]
  },
  {
   "cell_type": "code",
   "execution_count": 1,
   "metadata": {},
   "outputs": [],
   "source": [
    "from collections import defaultdict\n",
    "def group_anagrams(strs: list) -> list:\n",
    "    anagrams_dict = defaultdict(list)\n",
    "    for s in strs:\n",
    "        count = [0] * 26\n",
    "        for c in s:\n",
    "            count[ord(c) - ord('a')] += 1\n",
    "    \n",
    "        key = tuple(count)\n",
    "        anagrams_dict[key].append(s)\n",
    "        \n",
    "    return anagrams_dict.values()"
   ]
  },
  {
   "cell_type": "code",
   "execution_count": null,
   "metadata": {},
   "outputs": [],
   "source": [
    "print(group_anagrams([\"eat\", \"tea\", \"tan\", \"ate\", \"nat\", \"bat\"]))\n",
    "# Output: [['eat', 'tea', 'ate'], ['tan', 'nat'], ['bat']]\n",
    "\n",
    "# print(group_anagrams([\"\"]))\n",
    "# # Output: [['']]\n",
    "\n",
    "# print(group_anagrams([\"a\"]))\n",
    "# Output: [['a']]"
   ]
  },
  {
   "cell_type": "markdown",
   "metadata": {},
   "source": [
    "Question 12: Split the Array\n",
    "\n",
    "You are given an integer array nums of even length. You have to split the array into two parts nums1 and nums2 such that"
   ]
  },
  {
   "cell_type": "code",
   "execution_count": 36,
   "metadata": {},
   "outputs": [],
   "source": [
    "def isPossibleToSplit(nums):\n",
    "    lst_index = {}\n",
    "    for index, value in enumerate(nums):\n",
    "        if value in lst_index:\n",
    "            lst_index[value] += 1\n",
    "        else:\n",
    "            lst_index[value] = 1\n",
    "    \n",
    "    print(lst_index)\n",
    "    \n",
    "    for count in lst_index.values():\n",
    "        if count > 2:\n",
    "            return False\n",
    "    return True"
   ]
  },
  {
   "cell_type": "code",
   "execution_count": 37,
   "metadata": {},
   "outputs": [
    {
     "name": "stdout",
     "output_type": "stream",
     "text": [
      "{1: 2, 2: 2, 3: 1, 4: 1}\n",
      "True\n"
     ]
    }
   ],
   "source": [
    "nums = [1,1,2,2,3,4]\n",
    "print(isPossibleToSplit(nums))"
   ]
  },
  {
   "cell_type": "code",
   "execution_count": null,
   "metadata": {},
   "outputs": [],
   "source": []
  }
 ],
 "metadata": {
  "kernelspec": {
   "display_name": "Python 3",
   "language": "python",
   "name": "python3"
  },
  "language_info": {
   "codemirror_mode": {
    "name": "ipython",
    "version": 3
   },
   "file_extension": ".py",
   "mimetype": "text/x-python",
   "name": "python",
   "nbconvert_exporter": "python",
   "pygments_lexer": "ipython3",
   "version": "3.10.13"
  }
 },
 "nbformat": 4,
 "nbformat_minor": 2
}
