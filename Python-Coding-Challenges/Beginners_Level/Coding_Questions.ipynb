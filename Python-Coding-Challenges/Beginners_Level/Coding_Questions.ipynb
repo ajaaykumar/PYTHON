{
 "cells": [
  {
   "cell_type": "markdown",
   "metadata": {},
   "source": [
    "Question 1: Write a Python program to check if a string is a palindrome."
   ]
  },
  {
   "cell_type": "code",
   "execution_count": 3,
   "metadata": {},
   "outputs": [
    {
     "data": {
      "text/plain": [
       "True"
      ]
     },
     "execution_count": 3,
     "metadata": {},
     "output_type": "execute_result"
    }
   ],
   "source": [
    "# 1st Approach\n",
    "def main(arg1):\n",
    "    for i in range(0,int(len(arg1)/2)):\n",
    "        if arg1[i] == arg1[len(arg1)-i-1]:\n",
    "            return True\n",
    "        else:\n",
    "            return False\n",
    "s = 'ccaack'\n",
    "main(s)"
   ]
  },
  {
   "cell_type": "code",
   "execution_count": 14,
   "metadata": {},
   "outputs": [
    {
     "name": "stdout",
     "output_type": "stream",
     "text": [
      "True False\n"
     ]
    }
   ],
   "source": [
    "# 2nd Approach\n",
    "def palindrom(value:str):\n",
    "    n = len(value)\n",
    "    r = n-1\n",
    "    for i in range(len(value)):\n",
    "        if value[i] == value[r]:\n",
    "            r -= 1\n",
    "        else:\n",
    "            return False\n",
    "    return True\n",
    "\n",
    "val1 = palindrom(\"MADAM\")\n",
    "val2 = palindrom(\"MADAMS\")\n",
    "print(val1, val2)\n"
   ]
  },
  {
   "cell_type": "markdown",
   "metadata": {},
   "source": [
    "Question 2: Write a Python program to find the factorial of a number."
   ]
  },
  {
   "cell_type": "code",
   "execution_count": 1,
   "metadata": {},
   "outputs": [
    {
     "name": "stdout",
     "output_type": "stream",
     "text": [
      "5040\n"
     ]
    }
   ],
   "source": [
    "def factorialOfNumber(value:int):\n",
    "    if value < 2 and isinstance(value, int):\n",
    "        return 1\n",
    "    else:\n",
    "        return value * factorialOfNumber(value-1)\n",
    "\n",
    "print(factorialOfNumber(7))"
   ]
  },
  {
   "cell_type": "code",
   "execution_count": null,
   "metadata": {},
   "outputs": [],
   "source": [
    "n = 7\n",
    "factorial = 1\n",
    "\n",
    "for i in range(1,n+1):\n",
    "    factorial = factorial * i\n",
    "\n",
    "print(factorial)"
   ]
  },
  {
   "cell_type": "markdown",
   "metadata": {},
   "source": [
    "Question 3: Write a Python program to find the largest element in a list."
   ]
  },
  {
   "cell_type": "code",
   "execution_count": 2,
   "metadata": {},
   "outputs": [
    {
     "name": "stdout",
     "output_type": "stream",
     "text": [
      "largest: 11\n"
     ]
    }
   ],
   "source": [
    "# This Functions represent the behavior of Max() function in python\n",
    "def largestElemetInList(lst:list):\n",
    "    # print(max(lst))\n",
    "    largest = lst[0]\n",
    "    for i in lst:\n",
    "        if i > largest:\n",
    "            largest = i\n",
    "    print(f\"largest: {largest}\")\n",
    "\n",
    "largestElemetInList([1,2,4,5,10,9,11])"
   ]
  },
  {
   "cell_type": "markdown",
   "metadata": {},
   "source": [
    "Question 4: Write a Python program to reverse a string."
   ]
  },
  {
   "cell_type": "code",
   "execution_count": 13,
   "metadata": {},
   "outputs": [
    {
     "name": "stdout",
     "output_type": "stream",
     "text": [
      "EDCBA\n"
     ]
    }
   ],
   "source": [
    "String = \"ABCDE\"\n",
    "# String[start:stop:step]\n",
    "# print(String[::-1])\n",
    "\n",
    "reverse_string = \"\"\n",
    "for i in range(len(String)-1,-1,-1):\n",
    "    reverse_string += String[i]\n",
    "\n",
    "print(reverse_string)\n"
   ]
  },
  {
   "cell_type": "markdown",
   "metadata": {},
   "source": [
    "Question 5: Write a Python program to count the frequency of each element in a list.\n",
    "\n",
    "https://stackoverflow.com/questions/9001509/how-do-i-sort-a-dictionary-by-key"
   ]
  },
  {
   "cell_type": "code",
   "execution_count": 33,
   "metadata": {},
   "outputs": [
    {
     "name": "stdout",
     "output_type": "stream",
     "text": [
      "[4, 4, 2, 2, 1]\n"
     ]
    }
   ],
   "source": [
    "def sortUnorderedList(unordered_list:list):\n",
    "    freq_of_unordereded_list = {}\n",
    "    for value in unordered_list:\n",
    "        if value in freq_of_unordereded_list:\n",
    "            freq_of_unordereded_list[value] += 1\n",
    "        else:\n",
    "            freq_of_unordereded_list[value] = 1\n",
    "\n",
    "    resp = [i for i in freq_of_unordereded_list.values()]\n",
    "    resp.sort(reverse=True) \n",
    "    return resp\n",
    "\n",
    "unordered_list = [5, 1, 2, 2, 4, 3, 1, 2, 3, 1, 1, 5, 2]\n",
    "print(sortUnorderedList(unordered_list)) # `a` has 4 instances of `1`, 4 of `2`, 2 of `3`, 1 of `4,` 2 of `5`   b = [4, 4, 2, 1, 2] # expected output\n",
    " "
   ]
  },
  {
   "cell_type": "markdown",
   "metadata": {},
   "source": [
    "Question 6: Write a Python program to check if a number is prime."
   ]
  },
  {
   "cell_type": "code",
   "execution_count": null,
   "metadata": {},
   "outputs": [],
   "source": [
    "# a whole number greater than 1 that cannot be exactly divided by any whole number other than itself and 1 (e.g. 2, 3, 5, 7, 11).\n",
    "\n",
    "def isprime(num:int):\n",
    "    if num > 1:\n",
    "        pass\n",
    "    else:\n",
    "        return 'Not a prime Number'"
   ]
  },
  {
   "cell_type": "markdown",
   "metadata": {},
   "source": [
    "Question 7: Write a Python program to find the common elements between two lists."
   ]
  },
  {
   "cell_type": "code",
   "execution_count": 26,
   "metadata": {},
   "outputs": [
    {
     "name": "stdout",
     "output_type": "stream",
     "text": [
      "[1, 2, 3, 4, 5, 6]\n",
      "[3, 5, 7, 9]\n",
      "['this', 'this', 'n', 'that']\n",
      "['this', 'not', 'that', 'that']\n"
     ]
    }
   ],
   "source": [
    "def commonElementsInLst(sampleList1,sampleList2):\n",
    "    print(sampleList1)\n",
    "    print(sampleList2)\n",
    "\n",
    "\n",
    "list1 = [1,2,3,4,5,6]\n",
    "list2 = [3,5,7,9]\n",
    "commonElementsInLst(list1,list2)\n",
    "\n",
    "strList1 = ['this','this','n','that']\n",
    "strList2 = ['this','not','that','that']\n",
    "commonElementsInLst(strList1,strList2)\n"
   ]
  },
  {
   "cell_type": "markdown",
   "metadata": {},
   "source": [
    "Question 8: Write a Python program to sort a list of elements using the bubble sort algorithm."
   ]
  },
  {
   "cell_type": "code",
   "execution_count": null,
   "metadata": {},
   "outputs": [],
   "source": []
  },
  {
   "cell_type": "markdown",
   "metadata": {},
   "source": [
    "Question 9: Write a Python program to find the second largest number in a list."
   ]
  },
  {
   "cell_type": "code",
   "execution_count": 17,
   "metadata": {},
   "outputs": [],
   "source": [
    "def secondLargestNumer(numList:[int]):\n",
    "    largest_num = 0\n",
    "    second_largest = 0\n",
    "    for i in numList:\n",
    "        if i > largest_num:\n",
    "            second_largest = largest_num\n",
    "            largest_num = i\n",
    "        elif i > second_largest:\n",
    "            second_largest = i\n",
    "    return f\"second largest number: {second_largest}\"\n",
    "\n",
    "print(secondLargestNumer([100,564,101,201,10,11,554]))"
   ]
  },
  {
   "cell_type": "markdown",
   "metadata": {},
   "source": [
    "Question 10: Write a python program to find the Kth Largest Element in an Array "
   ]
  },
  {
   "cell_type": "code",
   "execution_count": null,
   "metadata": {},
   "outputs": [],
   "source": []
  },
  {
   "cell_type": "markdown",
   "metadata": {},
   "source": [
    "Question 11: Write a Python program to remove duplicates from a list."
   ]
  },
  {
   "cell_type": "code",
   "execution_count": 3,
   "metadata": {},
   "outputs": [
    {
     "name": "stdout",
     "output_type": "stream",
     "text": [
      "[1, 2, 3, 4, 5, 6, 7, 8]\n"
     ]
    }
   ],
   "source": [
    "def removeDuplicates(lstData):\n",
    "    nonDuplicateList = []\n",
    "    for i in lstData:\n",
    "        if i not in nonDuplicateList:\n",
    "            nonDuplicateList.append(i)\n",
    "\n",
    "    return nonDuplicateList\n",
    "\n",
    "\n",
    "duplicateList = [1,2,3,4,5,6,6,7,8,5]\n",
    "print(removeDuplicates(duplicateList))\n"
   ]
  },
  {
   "cell_type": "markdown",
   "metadata": {},
   "source": [
    "Question 12: Write a Python function to group anagrams from a list of strings. \n",
    "Two strings are anagrams if they can be rearranged to form each other. \n",
    "The function should return a list of lists, where each inner list contains strings that are anagrams of each other."
   ]
  },
  {
   "cell_type": "code",
   "execution_count": 1,
   "metadata": {},
   "outputs": [],
   "source": [
    "from collections import defaultdict\n",
    "def group_anagrams(strs: list) -> list:\n",
    "    anagrams_dict = defaultdict(list)\n",
    "    for s in strs:\n",
    "        count = [0] * 26\n",
    "        for c in s:\n",
    "            count[ord(c) - ord('a')] += 1\n",
    "    \n",
    "        key = tuple(count)\n",
    "        anagrams_dict[key].append(s)\n",
    "        \n",
    "    return anagrams_dict.values()"
   ]
  },
  {
   "cell_type": "code",
   "execution_count": null,
   "metadata": {},
   "outputs": [],
   "source": [
    "print(group_anagrams([\"eat\", \"tea\", \"tan\", \"ate\", \"nat\", \"bat\"]))\n",
    "# Output: [['eat', 'tea', 'ate'], ['tan', 'nat'], ['bat']]\n",
    "\n",
    "# print(group_anagrams([\"\"]))\n",
    "# # Output: [['']]\n",
    "\n",
    "# print(group_anagrams([\"a\"]))\n",
    "# Output: [['a']]"
   ]
  },
  {
   "cell_type": "markdown",
   "metadata": {},
   "source": [
    "Question 13: Split the Array\n",
    "\n",
    "You are given an integer array nums of even length. You have to split the array into two parts nums1 and nums2 such that"
   ]
  },
  {
   "cell_type": "code",
   "execution_count": 36,
   "metadata": {},
   "outputs": [],
   "source": [
    "def isPossibleToSplit(nums):\n",
    "    lst_index = {}\n",
    "    for index, value in enumerate(nums):\n",
    "        if value in lst_index:\n",
    "            lst_index[value] += 1\n",
    "        else:\n",
    "            lst_index[value] = 1\n",
    "    \n",
    "    print(lst_index)\n",
    "    \n",
    "    for count in lst_index.values():\n",
    "        if count > 2:\n",
    "            return False\n",
    "    return True"
   ]
  },
  {
   "cell_type": "code",
   "execution_count": 37,
   "metadata": {},
   "outputs": [
    {
     "name": "stdout",
     "output_type": "stream",
     "text": [
      "{1: 2, 2: 2, 3: 1, 4: 1}\n",
      "True\n"
     ]
    }
   ],
   "source": [
    "nums = [1,1,2,2,3,4]\n",
    "print(isPossibleToSplit(nums))"
   ]
  },
  {
   "cell_type": "markdown",
   "metadata": {},
   "source": [
    "Question 14: Given an array of integers in ascending order, return index of the two numbers such that they add up to a specific key provided.\n",
    "\n",
    "Example:\n",
    "Take the array [1,2,3,4] and “key” is 7."
   ]
  },
  {
   "cell_type": "code",
   "execution_count": 14,
   "metadata": {},
   "outputs": [
    {
     "name": "stdout",
     "output_type": "stream",
     "text": [
      "[2, 3]\n"
     ]
    }
   ],
   "source": [
    "def twoSum(nums, target):\n",
    "    indexedValues = {}\n",
    "    for i,value in enumerate(nums):\n",
    "        diff = target - value\n",
    "        if diff in indexedValues:\n",
    "            return [indexedValues[diff], i]\n",
    "        else:\n",
    "            indexedValues[value] = i\n",
    "\n",
    "print(twoSum([1,2,3,4],7))"
   ]
  },
  {
   "cell_type": "code",
   "execution_count": 12,
   "metadata": {},
   "outputs": [
    {
     "name": "stdout",
     "output_type": "stream",
     "text": [
      "-6\n",
      "-5\n",
      "-4\n",
      "-3\n"
     ]
    }
   ],
   "source": [
    "nums = [1,2,3,4]\n",
    "for i in nums:\n",
    "    print(i-7)"
   ]
  },
  {
   "cell_type": "markdown",
   "metadata": {},
   "source": [
    "Question 15: Write a program to find the first non-repeated character in a string."
   ]
  },
  {
   "cell_type": "code",
   "execution_count": null,
   "metadata": {},
   "outputs": [],
   "source": []
  },
  {
   "cell_type": "markdown",
   "metadata": {},
   "source": [
    "Question 16: Write a program to check if two strings are anagrams of each other."
   ]
  },
  {
   "cell_type": "code",
   "execution_count": null,
   "metadata": {},
   "outputs": [],
   "source": []
  },
  {
   "cell_type": "markdown",
   "metadata": {},
   "source": [
    "Question 17: Write a program to find the longest substring without repeating characters."
   ]
  },
  {
   "cell_type": "code",
   "execution_count": null,
   "metadata": {},
   "outputs": [],
   "source": []
  },
  {
   "cell_type": "markdown",
   "metadata": {},
   "source": [
    "Question 18: Write a program to find the longest common prefix among a set of strings."
   ]
  },
  {
   "cell_type": "code",
   "execution_count": null,
   "metadata": {},
   "outputs": [],
   "source": []
  },
  {
   "cell_type": "markdown",
   "metadata": {},
   "source": [
    "Question 19: Write a program to remove a specific character from a string."
   ]
  },
  {
   "cell_type": "code",
   "execution_count": null,
   "metadata": {},
   "outputs": [],
   "source": []
  },
  {
   "cell_type": "markdown",
   "metadata": {},
   "source": [
    "Question 20: Write a program to implement the Rabin-Karp algorithm for string matching."
   ]
  },
  {
   "cell_type": "code",
   "execution_count": null,
   "metadata": {},
   "outputs": [],
   "source": []
  },
  {
   "cell_type": "markdown",
   "metadata": {},
   "source": [
    "Question 21: Write a program to convert a string to its equivalent integer."
   ]
  },
  {
   "cell_type": "code",
   "execution_count": null,
   "metadata": {},
   "outputs": [],
   "source": []
  },
  {
   "cell_type": "markdown",
   "metadata": {},
   "source": [
    "\n",
    "Question 22: Write a program to replace a specific word in a string with another word."
   ]
  },
  {
   "cell_type": "code",
   "execution_count": null,
   "metadata": {},
   "outputs": [],
   "source": []
  },
  {
   "cell_type": "markdown",
   "metadata": {},
   "source": [
    "Question 23: Write a python code to get it sorted in the ascending order without using pre-defined functions? \n",
    "\n",
    "list1 = [4,7,8,1,3,2,7,7,9]"
   ]
  },
  {
   "cell_type": "code",
   "execution_count": null,
   "metadata": {},
   "outputs": [],
   "source": []
  },
  {
   "cell_type": "markdown",
   "metadata": {},
   "source": [
    "Question 24: Write a Python code to determine if two strings are isomorphic.\n",
    "To be isomorphic, each character in the first string must uniquely map to a character in the second string, and vice versa.\n",
    "\n",
    "\n",
    "Example:\n",
    "\n",
    "\n",
    "string1 = 'egg'\n",
    "\n",
    "\n",
    "string2 = 'add'\n",
    "\n",
    "\n",
    "Output: Isomorphic strings"
   ]
  },
  {
   "cell_type": "code",
   "execution_count": null,
   "metadata": {},
   "outputs": [],
   "source": []
  },
  {
   "cell_type": "code",
   "execution_count": null,
   "metadata": {},
   "outputs": [],
   "source": []
  }
 ],
 "metadata": {
  "kernelspec": {
   "display_name": "Python 3",
   "language": "python",
   "name": "python3"
  },
  "language_info": {
   "codemirror_mode": {
    "name": "ipython",
    "version": 3
   },
   "file_extension": ".py",
   "mimetype": "text/x-python",
   "name": "python",
   "nbconvert_exporter": "python",
   "pygments_lexer": "ipython3",
   "version": "3.10.13"
  }
 },
 "nbformat": 4,
 "nbformat_minor": 2
}
