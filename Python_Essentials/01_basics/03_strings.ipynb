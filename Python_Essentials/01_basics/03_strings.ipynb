{
 "cells": [
  {
   "cell_type": "markdown",
   "metadata": {},
   "source": [
    "What is a string in Python?\n",
    "\n",
    "A string in Python is a sequence of characters. It is an immutable data type, \n",
    "meaning once a string is created, \n",
    "it cannot be modified."
   ]
  },
  {
   "cell_type": "markdown",
   "metadata": {},
   "source": [
    "You can define a string in Python using single ('), double (\"), or triple (''' or \"\"\") quotes. For example:"
   ]
  },
  {
   "cell_type": "code",
   "execution_count": null,
   "metadata": {},
   "outputs": [],
   "source": [
    "single_quoted = 'Hello'\n",
    "double_quoted = \"World\"\n",
    "triple_quoted = '''Python'''"
   ]
  },
  {
   "cell_type": "markdown",
   "metadata": {},
   "source": [
    "Strings can be concatenated using the + operator "
   ]
  },
  {
   "cell_type": "code",
   "execution_count": null,
   "metadata": {},
   "outputs": [],
   "source": [
    "concatenated_string = \"Hello\" + \" \" + \"World\"\n",
    "print(concatenated_string)"
   ]
  },
  {
   "cell_type": "markdown",
   "metadata": {},
   "source": [
    "The repr() function returns a printable representation of the given object."
   ]
  },
  {
   "cell_type": "code",
   "execution_count": null,
   "metadata": {},
   "outputs": [],
   "source": [
    "var = 'foo'\n",
    "print('repr: ',repr(var)) #  the repr() function returns \"'foo'\", 'foo' inside double-quotes.\n",
    "print('str: ',str(var))"
   ]
  },
  {
   "cell_type": "markdown",
   "metadata": {},
   "source": [
    "The strip() method removes leading and trailing whitespaces from a string."
   ]
  },
  {
   "cell_type": "code",
   "execution_count": null,
   "metadata": {},
   "outputs": [],
   "source": [
    "message = '     Learn Python  '\n",
    "print(message.strip())\n",
    "\n",
    "string = '  xoxo love xovo   '\n",
    "print(string.strip(' xoxo'))\n",
    "\n",
    "# The lstrip() removes characters from the left based on the argument \n",
    "# The rstrip() method returns a copy of the string with trailing characters removed\n"
   ]
  },
  {
   "cell_type": "markdown",
   "metadata": {},
   "source": [
    "The replace() method replaces occurrences of a specified substring with another substring"
   ]
  },
  {
   "cell_type": "code",
   "execution_count": null,
   "metadata": {},
   "outputs": [],
   "source": []
  },
  {
   "cell_type": "code",
   "execution_count": 6,
   "metadata": {},
   "outputs": [
    {
     "name": "stdout",
     "output_type": "stream",
     "text": [
      "3\n",
      "2\n"
     ]
    }
   ],
   "source": [
    "# count the occurrences of a specific character in a string.\n",
    "print('occurrences'.count('c'))\n",
    "print('occurrences'.count('c',2))"
   ]
  },
  {
   "cell_type": "markdown",
   "metadata": {},
   "source": [
    "String find() method\n",
    "\n",
    "The find() method returns the index of first occurrence of the substring (if found). If not found, it returns -1."
   ]
  },
  {
   "cell_type": "code",
   "execution_count": 5,
   "metadata": {},
   "outputs": [
    {
     "name": "stdout",
     "output_type": "stream",
     "text": [
      "12\n"
     ]
    }
   ],
   "source": [
    "message = 'Python is a fun programming language fun'\n",
    "print(message.find('fun'))"
   ]
  },
  {
   "cell_type": "code",
   "execution_count": null,
   "metadata": {},
   "outputs": [],
   "source": [
    "quote = 'Do small things with great love'\n",
    "\n",
    "# Substring is searched in 'hings with great love'\n",
    "print(quote.find('small things', 10)) \n",
    "\n",
    "# Substring is searched in ' small things with great love' \n",
    "print(quote.find('small things', 2))\n",
    "\n",
    "# Substring is searched in 'hings with great lov'\n",
    "print(quote.find('o small ', 10, -1))\n",
    "\n",
    "# Substring is searched in 'll things with'\n",
    "print(quote.find('things ', 6, 20))"
   ]
  },
  {
   "cell_type": "code",
   "execution_count": null,
   "metadata": {},
   "outputs": [],
   "source": [
    "txt = \"welcome to the jungle\"\n",
    "x = txt.split(maxsplit=2)\n",
    "print(x)"
   ]
  },
  {
   "cell_type": "markdown",
   "metadata": {},
   "source": [
    "Sorted()"
   ]
  },
  {
   "cell_type": "code",
   "execution_count": 1,
   "metadata": {},
   "outputs": [
    {
     "name": "stdout",
     "output_type": "stream",
     "text": [
      "['a', 'b', 'e', 'r', 's', 'x']\n"
     ]
    }
   ],
   "source": [
    "alphabets = \"abxers\"\n",
    "print(sorted(alphabets))"
   ]
  },
  {
   "cell_type": "code",
   "execution_count": null,
   "metadata": {},
   "outputs": [],
   "source": [
    "links = ['www.youtube.com',\n",
    "         'www.google.com',\n",
    "         'www.programiz.com',\n",
    "         'www.wikipedia.com']\n",
    "domain = []\n",
    "for i in links:\n",
    "    domain.append('.'.join(i.split('.')[1:]))\n",
    "\n",
    "# The issue with lstrip\n",
    "for link in links:\n",
    "    print(link.lstrip('www.'))\n",
    "\n",
    "for link in links:\n",
    "    print(link.lstrip('w.'))\n",
    "\n",
    "for link in links:\n",
    "    print(link.removeprefix('www.'))"
   ]
  }
 ],
 "metadata": {
  "kernelspec": {
   "display_name": "Python 3",
   "language": "python",
   "name": "python3"
  },
  "language_info": {
   "codemirror_mode": {
    "name": "ipython",
    "version": 3
   },
   "file_extension": ".py",
   "mimetype": "text/x-python",
   "name": "python",
   "nbconvert_exporter": "python",
   "pygments_lexer": "ipython3",
   "version": "3.10.13"
  }
 },
 "nbformat": 4,
 "nbformat_minor": 2
}
