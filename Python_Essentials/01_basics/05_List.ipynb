{
 "cells": [
  {
   "cell_type": "markdown",
   "metadata": {},
   "source": []
  },
  {
   "cell_type": "markdown",
   "metadata": {},
   "source": [
    "---\n",
    "### 🔹 **List Methods and Their Time Complexity**\n",
    "\n",
    "| **Method**           | **Description**                                         | **Time Complexity (Avg)** |\n",
    "|----------------------|---------------------------------------------------------|---------------------------|\n",
    "| `append(x)`         | Adds an element `x` to the end of the list.             | **O(1)** (Amortized)      |\n",
    "| `extend(iterable)`  | Extends the list by adding elements from `iterable`.    | **O(k)** (where `k` is the length of `iterable`) |\n",
    "| `insert(i, x)`      | Inserts an element `x` at index `i`.                    | **O(n)**                  |\n",
    "| `remove(x)`         | Removes the first occurrence of `x`.                     | **O(n)**                  |\n",
    "| `pop()`             | Removes and returns the last element.                    | **O(1)**                  |\n",
    "| `pop(i)`           | Removes and returns the element at index `i`.            | **O(n)**                  |\n",
    "| `clear()`           | Removes all elements from the list.                      | **O(n)**                  |\n",
    "| `index(x)`          | Returns the index of the first occurrence of `x`.        | **O(n)**                  |\n",
    "| `count(x)`          | Counts the occurrences of `x` in the list.               | **O(n)**                  |\n",
    "| `sort()`            | Sorts the list in ascending order (in-place).            | **O(n log n)**            |\n",
    "| `reverse()`         | Reverses the list in place.                              | **O(n)**                  |\n",
    "| `copy()`            | Returns a shallow copy of the list.                      | **O(n)**                  |\n",
    "| `len()`             | Returns the number of elements in the list.              | **O(1)**                  |\n",
    "| `min()`             | Returns the smallest element in the list.                | **O(n)**                  |\n",
    "| `max()`             | Returns the largest element in the list.                 | **O(n)**                  |\n",
    "| `sum()`             | Returns the sum of all elements in the list.             | **O(n)**                  |\n",
    "\n",
    "---"
   ]
  },
  {
   "cell_type": "markdown",
   "metadata": {},
   "source": [
    "***sort() Method***"
   ]
  },
  {
   "cell_type": "code",
   "execution_count": null,
   "metadata": {},
   "outputs": [],
   "source": [
    "\n",
    "# The sort() method is a list method that sorts the elements of a list in place (i.e., it modifies the original list).\n",
    "\n",
    "# The sort() method has two optional arguments: reverse and key. \n",
    "# The reverse argument is a boolean value that specifies whether the list should be sorted in descending order. \n",
    "# The key argument is a function that is used to extract a comparison key from each element in the list. \n",
    "# The elements are then sorted based on the comparison keys.\n",
    "\n",
    "# The sort() method does not return a new list. Instead, it modifies the original list.\n",
    "# list.sort(key=None, reverse=False)\n",
    "\n",
    "numbers = [3, 1, 4, 1, 5, 9, 2]\n",
    "numbers.sort()\n",
    "print(numbers)  # Output: [1, 1, 2, 3, 4, 5, 9]\n",
    "\n",
    "words = [\"apple\", \"banana\", \"cherry\"]\n",
    "words.sort(key=len, reverse=True)\n",
    "print(words)  # Output: ['banana', 'cherry', 'apple']\n",
    "\n",
    "\n",
    "# Using sort() with key argument\n",
    "tuple_numbers = (3, 1, 4, 1, 5, 9, 2)\n",
    "# Using sort() (will raise an error)\n",
    "tuple_numbers.sort()  # AttributeError: 'tuple' object has no attribute 'sort'\n"
   ]
  },
  {
   "cell_type": "code",
   "execution_count": null,
   "metadata": {},
   "outputs": [],
   "source": [
    "my_list = ['apple', 'banana', 'cherry']"
   ]
  },
  {
   "cell_type": "markdown",
   "metadata": {},
   "source": [
    "\n",
    "### 🔹 **List Operations and Their Time Complexity**\n",
    "\n",
    "| **Operation**       | **Description**                                         | **Time Complexity** |\n",
    "|---------------------|---------------------------------------------------------|---------------------|\n",
    "| `lst[i]`           | Access an element at index `i`.                          | **O(1)**           |\n",
    "| `lst[i] = x`       | Assign a value `x` to index `i`.                         | **O(1)**           |\n",
    "| `del lst[i]`       | Deletes an element at index `i`.                         | **O(n)**           |\n",
    "| `len(lst)`         | Returns the number of elements in the list.              | **O(1)**           |\n",
    "| `lst1 + lst2`      | Concatenates two lists.                                  | **O(n + m)**       |\n",
    "| `lst * k`          | Repeats the list `k` times.                              | **O(nk)**          |\n",
    "| `x in lst`         | Checks if `x` is in the list.                            | **O(n)**           |\n",
    "| `min(lst)`, `max(lst)` | Finds the minimum or maximum element.             | **O(n)**           |\n",
    "| `sum(lst)`         | Computes the sum of elements.                            | **O(n)**           |\n",
    "\n",
    "---\n",
    "\n",
    "### 🔹 **Summary of Common Operations**\n",
    "- **Appending elements (`append(x)`) is very fast → O(1)**\n",
    "- **Removing elements (`remove(x)`) requires searching → O(n)**\n",
    "- **Sorting a list (`sort()`) is the slowest operation → O(n log n)**\n",
    "- **Accessing elements (`lst[i]`) is very fast → O(1)**"
   ]
  },
  {
   "cell_type": "code",
   "execution_count": null,
   "metadata": {},
   "outputs": [],
   "source": []
  },
  {
   "cell_type": "code",
   "execution_count": null,
   "metadata": {},
   "outputs": [],
   "source": []
  }
 ],
 "metadata": {
  "kernelspec": {
   "display_name": "Python 3",
   "language": "python",
   "name": "python3"
  },
  "language_info": {
   "codemirror_mode": {
    "name": "ipython",
    "version": 3
   },
   "file_extension": ".py",
   "mimetype": "text/x-python",
   "name": "python",
   "nbconvert_exporter": "python",
   "pygments_lexer": "ipython3",
   "version": "3.9.0"
  }
 },
 "nbformat": 4,
 "nbformat_minor": 2
}
