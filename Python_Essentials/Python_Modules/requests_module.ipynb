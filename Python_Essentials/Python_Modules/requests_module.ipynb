{
 "cells": [
  {
   "cell_type": "code",
   "execution_count": 2,
   "metadata": {},
   "outputs": [],
   "source": [
    "import requests"
   ]
  },
  {
   "cell_type": "code",
   "execution_count": 6,
   "metadata": {},
   "outputs": [
    {
     "name": "stdout",
     "output_type": "stream",
     "text": [
      "{'type': 'programming', 'setup': 'How do you check if a webpage is HTML5?', 'punchline': 'Try it out on Internet Explorer', 'id': 55}\n",
      "How do you check if a webpage is HTML5?\n",
      "Try it out on Internet Explorer\n",
      "200\n"
     ]
    }
   ],
   "source": [
    "url = 'https://official-joke-api.appspot.com/random_joke'\n",
    "\n",
    "resp = requests.get(url=url)\n",
    "data = resp.json()\n",
    "print(data)\n",
    "print(data.get('setup'))\n",
    "print(data.get('punchline'))\n",
    "status_code = resp.status_code\n",
    "print(status_code)"
   ]
  },
  {
   "cell_type": "code",
   "execution_count": null,
   "metadata": {},
   "outputs": [],
   "source": []
  }
 ],
 "metadata": {
  "kernelspec": {
   "display_name": "Python 3",
   "language": "python",
   "name": "python3"
  },
  "language_info": {
   "codemirror_mode": {
    "name": "ipython",
    "version": 3
   },
   "file_extension": ".py",
   "mimetype": "text/x-python",
   "name": "python",
   "nbconvert_exporter": "python",
   "pygments_lexer": "ipython3",
   "version": "3.9.0"
  }
 },
 "nbformat": 4,
 "nbformat_minor": 2
}
