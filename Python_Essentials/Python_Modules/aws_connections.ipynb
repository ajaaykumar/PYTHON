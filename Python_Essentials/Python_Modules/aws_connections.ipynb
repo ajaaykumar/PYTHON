{
 "cells": [
  {
   "cell_type": "code",
   "execution_count": null,
   "metadata": {},
   "outputs": [],
   "source": [
    "import boto3\n",
    "import json"
   ]
  },
  {
   "cell_type": "markdown",
   "metadata": {},
   "source": [
    "Refer:\n",
    "https://www.learnaws.org/2020/12/17/aws-sqs-boto3-guide/#how-to-create-a-new-sqs-queue-using-boto3"
   ]
  },
  {
   "cell_type": "code",
   "execution_count": 2,
   "metadata": {},
   "outputs": [],
   "source": [
    "def create_queue():\n",
    "    sqs_client = boto3.client(\"sqs\", region_name=\"us-west-2\")\n",
    "    response = sqs_client.create_queue(\n",
    "        QueueName=\"my-new-queue\",\n",
    "        Attributes={\n",
    "            \"DelaySeconds\": \"0\",\n",
    "            \"VisibilityTimeout\": \"60\",  # 60 seconds\n",
    "        }\n",
    "    )\n",
    "    print(response)"
   ]
  },
  {
   "cell_type": "code",
   "execution_count": 3,
   "metadata": {},
   "outputs": [],
   "source": [
    "def get_queue_url():\n",
    "    sqs_client = boto3.client(\"sqs\", region_name=\"us-west-2\")\n",
    "    response = sqs_client.get_queue_url(\n",
    "        QueueName=\"my-new-queue\",\n",
    "    )\n",
    "    return response[\"QueueUrl\"]"
   ]
  },
  {
   "cell_type": "code",
   "execution_count": 5,
   "metadata": {},
   "outputs": [],
   "source": [
    "def send_message():\n",
    "    sqs_client = boto3.client(\"sqs\", region_name=\"us-west-2\")\n",
    "\n",
    "    message = {\"key\": \"value\"}\n",
    "    response = sqs_client.send_message(\n",
    "        QueueUrl=\"https://us-west-2.queue.amazonaws.com/xxx/my-new-queue\",\n",
    "        MessageBody=json.dumps(message)\n",
    "    )\n",
    "    print(response)"
   ]
  },
  {
   "cell_type": "code",
   "execution_count": 6,
   "metadata": {},
   "outputs": [],
   "source": [
    "def receive_message():\n",
    "    sqs_client = boto3.client(\"sqs\", region_name=\"us-west-2\")\n",
    "    response = sqs_client.receive_message(\n",
    "        QueueUrl=\"https://us-west-2.queue.amazonaws.com/xxx/my-new-queue\",\n",
    "        MaxNumberOfMessages=1,\n",
    "        WaitTimeSeconds=10,\n",
    "    )\n",
    "\n",
    "    print(f\"Number of messages received: {len(response.get('Messages', []))}\")\n",
    "\n",
    "    for message in response.get(\"Messages\", []):\n",
    "        message_body = message[\"Body\"]\n",
    "        print(f\"Message body: {json.loads(message_body)}\")\n",
    "        print(f\"Receipt Handle: {message['ReceiptHandle']}\")"
   ]
  },
  {
   "cell_type": "code",
   "execution_count": null,
   "metadata": {},
   "outputs": [],
   "source": []
  }
 ],
 "metadata": {
  "kernelspec": {
   "display_name": "Python 3",
   "language": "python",
   "name": "python3"
  },
  "language_info": {
   "codemirror_mode": {
    "name": "ipython",
    "version": 3
   },
   "file_extension": ".py",
   "mimetype": "text/x-python",
   "name": "python",
   "nbconvert_exporter": "python",
   "pygments_lexer": "ipython3",
   "version": "3.9.0"
  }
 },
 "nbformat": 4,
 "nbformat_minor": 2
}
