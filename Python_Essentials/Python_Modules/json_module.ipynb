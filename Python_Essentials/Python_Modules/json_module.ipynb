{
 "cells": [
  {
   "cell_type": "code",
   "execution_count": 1,
   "metadata": {},
   "outputs": [],
   "source": [
    "import json"
   ]
  },
  {
   "cell_type": "code",
   "execution_count": 2,
   "metadata": {},
   "outputs": [],
   "source": [
    "data = {\"name\": \"Bob\", \"age\": 25}\n",
    "\n",
    "# Using dump()\n",
    "with open('data.json', 'w') as f:\n",
    "    json.dump(data, f)"
   ]
  },
  {
   "cell_type": "code",
   "execution_count": 4,
   "metadata": {},
   "outputs": [
    {
     "name": "stdout",
     "output_type": "stream",
     "text": [
      "{\"name\": \"Bob\", \"age\": 25} <class 'str'>\n"
     ]
    }
   ],
   "source": [
    "# Using dumps()\n",
    "json_string = json.dumps(data)\n",
    "print(json_string, type(json_string))  # Output: {\"name\": \"Bob\", \"age\": 25} <class 'str'>"
   ]
  },
  {
   "cell_type": "code",
   "execution_count": 5,
   "metadata": {},
   "outputs": [
    {
     "name": "stdout",
     "output_type": "stream",
     "text": [
      "{'name': 'Bob', 'age': 25}\n"
     ]
    }
   ],
   "source": [
    "# Using load()\n",
    "with open('data.json', 'r') as f:\n",
    "    data = json.load(f)\n",
    "\n",
    "print(data)"
   ]
  },
  {
   "cell_type": "code",
   "execution_count": 6,
   "metadata": {},
   "outputs": [
    {
     "name": "stdout",
     "output_type": "stream",
     "text": [
      "{'name': 'Alice', 'age': 30}\n"
     ]
    }
   ],
   "source": [
    "# Using loads()\n",
    "json_string = '{\"name\": \"Alice\", \"age\": 30}'\n",
    "data = json.loads(json_string)\n",
    "print(data)"
   ]
  },
  {
   "cell_type": "code",
   "execution_count": 9,
   "metadata": {},
   "outputs": [
    {
     "name": "stdout",
     "output_type": "stream",
     "text": [
      "[{'Customer': 1, 'name': 'Alice', 'country': ['Spain', 'Madrid']}, {'Customer': 2, 'name': 'Jack', 'country': ['UK', 'London']}] <class 'list'>\n"
     ]
    }
   ],
   "source": [
    "ugly_json = '[ {\"Customer\": 1, \"name\": \"Alice\", \"country\": [\"Spain\", \"Madrid\"]}, \\\n",
    "                {\"Customer\": 2, \"name\": \"Jack\", \"country\": [\"UK\", \"London\"]} ]'\n",
    "  \n",
    "parsed_json = json.loads(ugly_json)\n",
    "pretty_json = json.dumps(parsed_json, indent=2)\n",
    "\n",
    "# print(pretty_json, type(pretty_json))"
   ]
  },
  {
   "cell_type": "code",
   "execution_count": null,
   "metadata": {},
   "outputs": [],
   "source": []
  }
 ],
 "metadata": {
  "kernelspec": {
   "display_name": "Python 3",
   "language": "python",
   "name": "python3"
  },
  "language_info": {
   "codemirror_mode": {
    "name": "ipython",
    "version": 3
   },
   "file_extension": ".py",
   "mimetype": "text/x-python",
   "name": "python",
   "nbconvert_exporter": "python",
   "pygments_lexer": "ipython3",
   "version": "3.9.0"
  }
 },
 "nbformat": 4,
 "nbformat_minor": 2
}
