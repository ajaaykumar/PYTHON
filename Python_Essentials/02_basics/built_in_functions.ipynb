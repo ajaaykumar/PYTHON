{
 "cells": [
  {
   "cell_type": "markdown",
   "metadata": {},
   "source": [
    "abs(n)\n",
    "\n",
    "Return value is the absolute value of the n parameter, which is of type int or float."
   ]
  },
  {
   "cell_type": "code",
   "execution_count": 3,
   "metadata": {},
   "outputs": [
    {
     "name": "stdout",
     "output_type": "stream",
     "text": [
      "10\n",
      "3.5\n"
     ]
    }
   ],
   "source": [
    "positive = 10\n",
    "negative = -3.5\n",
    "\n",
    "print(abs(positive))\n",
    "\n",
    "print(abs(negative))"
   ]
  },
  {
   "cell_type": "code",
   "execution_count": 1,
   "metadata": {},
   "outputs": [
    {
     "name": "stdout",
     "output_type": "stream",
     "text": [
      "[19.2, 27.3, 48, 115, 302.7, 421, 2011]\n"
     ]
    }
   ],
   "source": [
    "numbers = [-19.2, 27.3, 48, -115, 302.7, -421, -2011]\n",
    "\n",
    "print([abs(number) for number in numbers])\n"
   ]
  },
  {
   "cell_type": "code",
   "execution_count": 3,
   "metadata": {},
   "outputs": [
    {
     "name": "stdout",
     "output_type": "stream",
     "text": [
      "2.0\n",
      "2\n"
     ]
    }
   ],
   "source": [
    "print(20/10) # returns floating-point number \n",
    "print(20//10) # returns integer result"
   ]
  },
  {
   "cell_type": "code",
   "execution_count": 13,
   "metadata": {},
   "outputs": [
    {
     "name": "stdout",
     "output_type": "stream",
     "text": [
      "[27.3, 48, -115, 302.7, -421, -2011]\n"
     ]
    }
   ],
   "source": [
    "numbers = [-19.2, 27.3, 48, -115, 302.7, -421, -2011]\n",
    "numbers.pop(0)\n",
    "print(numbers)"
   ]
  },
  {
   "cell_type": "code",
   "execution_count": null,
   "metadata": {},
   "outputs": [],
   "source": []
  }
 ],
 "metadata": {
  "kernelspec": {
   "display_name": "Python 3",
   "language": "python",
   "name": "python3"
  },
  "language_info": {
   "codemirror_mode": {
    "name": "ipython",
    "version": 3
   },
   "file_extension": ".py",
   "mimetype": "text/x-python",
   "name": "python",
   "nbconvert_exporter": "python",
   "pygments_lexer": "ipython3",
   "version": "3.9.0"
  }
 },
 "nbformat": 4,
 "nbformat_minor": 2
}
