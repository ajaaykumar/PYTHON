{
 "cells": [
  {
   "cell_type": "markdown",
   "metadata": {},
   "source": []
  },
  {
   "cell_type": "markdown",
   "metadata": {},
   "source": [
    "Python provides a rich set of **built-in functions** that are always available for use without needing to import any modules. These functions perform a wide range of tasks, from mathematical operations to data type conversions and more. Below is a comprehensive list of Python's built-in functions, categorized for easier understanding:\n",
    "\n",
    "---\n",
    "\n",
    "### **1. Mathematical and Numerical Functions**\n",
    "| Function          | Description                                                                 |\n",
    "|-------------------|-----------------------------------------------------------------------------|\n",
    "| `abs(x)`          | Returns the absolute value of `x`.                                          |\n",
    "| `divmod(a, b)`    | Returns a tuple of the quotient and remainder of `a // b` and `a % b`.       |\n",
    "| `max(iterable)`   | Returns the largest item in an iterable or among arguments.                 |\n",
    "| `min(iterable)`   | Returns the smallest item in an iterable or among arguments.                |\n",
    "| `pow(x, y)`       | Returns `x` raised to the power of `y` (equivalent to `x ** y`).            |\n",
    "| `round(x, n)`     | Rounds `x` to `n` decimal places. If `n` is omitted, rounds to the nearest integer. |\n",
    "| `sum(iterable)`   | Returns the sum of all items in an iterable.                                |\n",
    "\n",
    "---"
   ]
  },
  {
   "cell_type": "code",
   "execution_count": null,
   "metadata": {},
   "outputs": [],
   "source": []
  },
  {
   "cell_type": "markdown",
   "metadata": {},
   "source": [
    "---\n",
    "### **2. Type Conversion Functions**\n",
    "| Function          | Description                                                                 |\n",
    "|-------------------|-----------------------------------------------------------------------------|\n",
    "| `bool(x)`         | Converts `x` to a Boolean value (`True` or `False`).                        |\n",
    "| `int(x)`          | Converts `x` to an integer.                                                |\n",
    "| `float(x)`        | Converts `x` to a floating-point number.                                   |\n",
    "| `str(x)`          | Converts `x` to a string.                                                  |\n",
    "| `chr(x)`          | Returns the Unicode character represented by the integer `x`.              |\n",
    "| `ord(x)`          | Returns the Unicode code point of a single character `x`.                  |\n",
    "| `bin(x)`          | Converts an integer `x` to a binary string prefixed with `0b`.             |\n",
    "| `hex(x)`          | Converts an integer `x` to a hexadecimal string prefixed with `0x`.        |\n",
    "| `oct(x)`          | Converts an integer `x` to an octal string prefixed with `0o`.              |\n",
    "| `complex(real, imag)` | Creates a complex number with `real` and `imag` parts.                 |\n",
    "\n",
    "---"
   ]
  },
  {
   "cell_type": "code",
   "execution_count": null,
   "metadata": {},
   "outputs": [],
   "source": []
  },
  {
   "cell_type": "markdown",
   "metadata": {},
   "source": [
    "### **3. Iterable and Sequence Functions**\n",
    "| Function          | Description                                                                 |\n",
    "|-------------------|-----------------------------------------------------------------------------|\n",
    "| `len(iterable)`   | Returns the number of items in an iterable.                                 |\n",
    "| `all(iterable)`   | Returns `True` if all elements in the iterable are true (or if empty).      |\n",
    "| `any(iterable)`   | Returns `True` if any element in the iterable is true.                      |\n",
    "| `enumerate(iterable)` | Returns an enumerate object (index, value pairs).                      |\n",
    "| `filter(func, iterable)` | Filters elements of an iterable using a function.                     |\n",
    "| `map(func, iterable)` | Applies a function to all items in an iterable and returns the results.|\n",
    "| `range(start, stop, step)` | Generates a sequence of numbers.                                   |\n",
    "| `reversed(seq)`   | Returns a reverse iterator over a sequence.                                |\n",
    "| `sorted(iterable)`| Returns a new sorted list from the items in the iterable.                   |\n",
    "| `zip(*iterables)` | Combines multiple iterables into tuples.                                   |\n",
    "\n",
    "---\n"
   ]
  },
  {
   "cell_type": "code",
   "execution_count": null,
   "metadata": {},
   "outputs": [],
   "source": [
    "# syntax: sorted(iterable, key=None, reverse=False)\n",
    "# key: A function that serves as a key for the sort comparison. The iterable is sorted based on the return value of the key function.\n",
    "# reverse: A boolean value. If set to True, then the list elements are sorted as if each comparison were reversed.\n",
    "\n",
    "numbers = [3, 1, 4, 1, 5, 9, 2]\n",
    "sorted_numbers = sorted(numbers)\n",
    "print(sorted_numbers)  # Output: [1, 1, 2, 3, 4, 5, 9]\n",
    "\n",
    "\n",
    "words = [\"apple\", \"banana\", \"cherry\"]\n",
    "sorted_words = sorted(words, key=len, reverse=True)\n",
    "print(sorted_words)  # Output: ['banana', 'cherry', 'apple']\n"
   ]
  },
  {
   "cell_type": "code",
   "execution_count": 8,
   "metadata": {},
   "outputs": [
    {
     "name": "stdout",
     "output_type": "stream",
     "text": [
      "Sorted List:  [1, 1, 2, 3, 4, 5, 9]\n",
      "Original List:  [3, 1, 4, 1, 5, 9, 2]\n",
      "sorted method converts tuple to list:  [1, 1, 2, 3, 4, 5, 9]\n"
     ]
    }
   ],
   "source": [
    "# Using sorted()\n",
    "numbers = [3, 1, 4, 1, 5, 9, 2]\n",
    "sorted_numbers = sorted(numbers)\n",
    "print('Sorted List: ',sorted_numbers)  # Output: [1, 1, 2, 3, 4, 5, 9]\n",
    "print('Original List: ', numbers)         # Output: [3, 1, 4, 1, 5, 9, 2] (unchanged)\n",
    "\n",
    "\n",
    "# Using sorted()\n",
    "tuple_numbers = (3, 1, 4, 1, 5, 9, 2)\n",
    "sorted_tuple = sorted(tuple_numbers)\n",
    "print('sorted method converts tuple to list: ',sorted_tuple)  # Output: [1, 1, 2, 3, 4, 5, 9] (returns a list)\n",
    "\n"
   ]
  },
  {
   "cell_type": "markdown",
   "metadata": {},
   "source": [
    "\n",
    "### **4. Input and Output Functions**\n",
    "| Function          | Description                                                                 |\n",
    "|-------------------|-----------------------------------------------------------------------------|\n",
    "| `input([prompt])` | Reads a string from standard input.                                         |\n",
    "| `print(*objects)` | Prints objects to the standard output.                                      |\n",
    "| `open(file, mode)`| Opens a file and returns a file object.                                     |\n",
    "\n",
    "---"
   ]
  },
  {
   "cell_type": "code",
   "execution_count": null,
   "metadata": {},
   "outputs": [],
   "source": []
  },
  {
   "cell_type": "markdown",
   "metadata": {},
   "source": [
    "\n",
    "### **5. Object and Class Functions**\n",
    "| Function          | Description                                                                 |\n",
    "|-------------------|-----------------------------------------------------------------------------|\n",
    "| `type(object)`    | Returns the type of an object.                                              |\n",
    "| `isinstance(object, class)` | Checks if an object is an instance of a class or its subclass.       |\n",
    "| `issubclass(class, classinfo)` | Checks if a class is a subclass of another class.                  |\n",
    "| `id(object)`      | Returns the identity (memory address) of an object.                         |\n",
    "| `hash(object)`    | Returns the hash value of an object (if hashable).                          |\n",
    "| `dir([object])`   | Returns a list of valid attributes for an object.                           |\n",
    "| `help([object])`  | Displays documentation for an object.                                       |\n",
    "\n",
    "---"
   ]
  },
  {
   "cell_type": "code",
   "execution_count": null,
   "metadata": {},
   "outputs": [],
   "source": []
  },
  {
   "cell_type": "markdown",
   "metadata": {},
   "source": [
    "\n",
    "### **6. Miscellaneous Functions**\n",
    "| Function          | Description                                                                 |\n",
    "|-------------------|-----------------------------------------------------------------------------|\n",
    "| `callable(object)`| Checks if an object is callable (e.g., a function or method).               |\n",
    "| `eval(expression)`| Evaluates a string as a Python expression.                                  |\n",
    "| `exec(object)`    | Executes dynamically created Python code.                                   |\n",
    "| `globals()`       | Returns a dictionary representing the current global symbol table.          |\n",
    "| `locals()`        | Returns a dictionary representing the current local symbol table.           |\n",
    "| `vars([object])`  | Returns the `__dict__` attribute of an object.                              |\n",
    "| `repr(object)`    | Returns a string representation of an object (for debugging).               |\n",
    "| `format(value, format_spec)` | Formats a value using a format specification.                     |\n",
    "| `staticmethod()`  | Converts a method into a static method.                                     |\n",
    "| `classmethod()`   | Converts a method into a class method.                                      |\n",
    "| `property()`      | Creates a property for a class.                                             |\n",
    "| `super()`         | Returns a proxy object that delegates method calls to a parent or sibling class. |\n",
    "\n",
    "---"
   ]
  },
  {
   "cell_type": "code",
   "execution_count": null,
   "metadata": {},
   "outputs": [],
   "source": []
  },
  {
   "cell_type": "markdown",
   "metadata": {},
   "source": [
    "\n",
    "### **7. Memory and Performance Functions**\n",
    "| Function          | Description                                                                 |\n",
    "|-------------------|-----------------------------------------------------------------------------|\n",
    "| `memoryview(object)` | Returns a memory view object for memory-efficient access to an object.  |\n",
    "| `slice(start, stop, step)` | Creates a slice object for slicing sequences.                     |\n",
    "| `breakpoint()`    | Drops into the debugger at the point where it is called.                    |\n",
    "\n",
    "---"
   ]
  },
  {
   "cell_type": "code",
   "execution_count": null,
   "metadata": {},
   "outputs": [],
   "source": []
  },
  {
   "cell_type": "markdown",
   "metadata": {},
   "source": [
    "### **8. Deprecated or Rarely Used Functions**\n",
    "| Function          | Description                                                                 |\n",
    "|-------------------|-----------------------------------------------------------------------------|\n",
    "| `ascii(object)`   | Returns a string containing a printable representation of an object.        |\n",
    "| `compile(source, filename, mode)` | Compiles source code into a code or AST object.             |\n",
    "| `delattr(object, name)` | Deletes an attribute from an object.                                  |\n",
    "| `getattr(object, name)` | Returns the value of a named attribute of an object.                  |\n",
    "| `hasattr(object, name)` | Checks if an object has a specific attribute.                         |\n",
    "| `setattr(object, name, value)` | Sets the value of a named attribute of an object.              |"
   ]
  },
  {
   "cell_type": "markdown",
   "metadata": {},
   "source": [
    "abs(n)\n",
    "\n",
    "Return value is the absolute value of the n parameter, which is of type int or float."
   ]
  },
  {
   "cell_type": "code",
   "execution_count": null,
   "metadata": {},
   "outputs": [],
   "source": []
  },
  {
   "cell_type": "code",
   "execution_count": 3,
   "metadata": {},
   "outputs": [
    {
     "name": "stdout",
     "output_type": "stream",
     "text": [
      "10\n",
      "3.5\n"
     ]
    }
   ],
   "source": [
    "positive = 10\n",
    "negative = -3.5\n",
    "\n",
    "print(abs(positive))\n",
    "\n",
    "print(abs(negative))"
   ]
  },
  {
   "cell_type": "code",
   "execution_count": 1,
   "metadata": {},
   "outputs": [
    {
     "name": "stdout",
     "output_type": "stream",
     "text": [
      "[19.2, 27.3, 48, 115, 302.7, 421, 2011]\n"
     ]
    }
   ],
   "source": [
    "numbers = [-19.2, 27.3, 48, -115, 302.7, -421, -2011]\n",
    "\n",
    "print([abs(number) for number in numbers])\n"
   ]
  },
  {
   "cell_type": "code",
   "execution_count": 3,
   "metadata": {},
   "outputs": [
    {
     "name": "stdout",
     "output_type": "stream",
     "text": [
      "2.0\n",
      "2\n"
     ]
    }
   ],
   "source": [
    "print(20/10) # returns floating-point number \n",
    "print(20//10) # returns integer result"
   ]
  },
  {
   "cell_type": "code",
   "execution_count": 13,
   "metadata": {},
   "outputs": [
    {
     "name": "stdout",
     "output_type": "stream",
     "text": [
      "[27.3, 48, -115, 302.7, -421, -2011]\n"
     ]
    }
   ],
   "source": [
    "numbers = [-19.2, 27.3, 48, -115, 302.7, -421, -2011]\n",
    "numbers.pop(0)\n",
    "print(numbers)"
   ]
  },
  {
   "cell_type": "code",
   "execution_count": null,
   "metadata": {},
   "outputs": [],
   "source": []
  }
 ],
 "metadata": {
  "kernelspec": {
   "display_name": "Python 3",
   "language": "python",
   "name": "python3"
  },
  "language_info": {
   "codemirror_mode": {
    "name": "ipython",
    "version": 3
   },
   "file_extension": ".py",
   "mimetype": "text/x-python",
   "name": "python",
   "nbconvert_exporter": "python",
   "pygments_lexer": "ipython3",
   "version": "3.9.0"
  }
 },
 "nbformat": 4,
 "nbformat_minor": 2
}
